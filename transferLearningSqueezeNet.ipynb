{
 "cells": [
  {
   "cell_type": "markdown",
   "metadata": {},
   "source": [
    "## Setup"
   ]
  },
  {
   "cell_type": "code",
   "execution_count": 2,
   "metadata": {},
   "outputs": [
    {
     "data": {
      "text/plain": [
       "<contextlib.ExitStack at 0x7ff5676ef890>"
      ]
     },
     "execution_count": 2,
     "metadata": {},
     "output_type": "execute_result"
    }
   ],
   "source": [
    "import torch\n",
    "import torch.nn as nn\n",
    "import torch.optim as optim\n",
    "from torch.optim import lr_scheduler\n",
    "import torch.backends.cudnn as cudnn\n",
    "import numpy as np\n",
    "import torchvision\n",
    "from torchvision import datasets, models, transforms\n",
    "from torchvision.models import SqueezeNet1_1_Weights\n",
    "import matplotlib.pyplot as plt\n",
    "import time\n",
    "import os\n",
    "from PIL import Image\n",
    "from tempfile import TemporaryDirectory\n",
    "from torch.utils.data import Dataset, DataLoader, random_split\n",
    "\n",
    "cudnn.benchmark = True\n",
    "plt.ion()"
   ]
  },
  {
   "cell_type": "markdown",
   "metadata": {},
   "source": [
    "Load data and create Dataloaders"
   ]
  },
  {
   "cell_type": "code",
   "execution_count": 3,
   "metadata": {},
   "outputs": [
    {
     "name": "stdout",
     "output_type": "stream",
     "text": [
      "(330316, 32, 32)\n"
     ]
    }
   ],
   "source": [
    "from utils import SymbolDataset, encode_labels\n",
    "\n",
    "data_dir = 'symbols.npz'\n",
    "data = np.load(data_dir)\n",
    "images = data['images']\n",
    "labels = data['labels']\n",
    "\n",
    "class_names, labels_nums = encode_labels(labels)\n",
    "\n",
    "images_tensor = torch.tensor(images).float()\n",
    "\n",
    "# NOTE: maybe try different mean and stds?\n",
    "# mean and std from imagenet are as follows:\n",
    "#  - mean = 0.4453\n",
    "#  - std  = 0.2692\n",
    "\n",
    "# Calculate the mean and standard deviation\n",
    "mean = images_tensor.mean()\n",
    "std = images_tensor.std()\n",
    "\n",
    "data_transforms = {\n",
    "    'train': transforms.Compose([ # Add in transforms if needed, and add test set\n",
    "        transforms.ToTensor(),\n",
    "        #transforms.Normalize(mean, std)\n",
    "    ]),\n",
    "    'val': transforms.Compose([\n",
    "        transforms.ToTensor(),\n",
    "        #transforms.Normalize(mean, std)\n",
    "    ]),\n",
    "}\n",
    "\n",
    "# initialize symbol dataset training splits\n",
    "dataset = SymbolDataset(images, labels_nums, transforms=data_transforms['train'])\n",
    "print(images.shape)\n",
    "train_size = int(0.8 * len(dataset))\n",
    "val_size = len(dataset) - train_size\n",
    "train_dataset, val_dataset = random_split(dataset, [train_size, val_size])\n",
    "\n",
    "# initialize dataloaders\n",
    "dataloaders = {\n",
    "    'train': DataLoader(train_dataset, batch_size=1024, shuffle=True, num_workers=4),\n",
    "    'val': DataLoader(val_dataset, batch_size=1024, shuffle=True, num_workers=4)\n",
    "}\n",
    "dataset_sizes = {x: len(dataset) for x in ['train', 'val']}\n",
    "class_names = np.unique(labels)\n",
    "num_classes = len(class_names)\n",
    "\n",
    "device = torch.device(\"cuda:0\" if torch.cuda.is_available() else \"cpu\")"
   ]
  },
  {
   "cell_type": "markdown",
   "metadata": {},
   "source": [
    "Visualize a batch of training data"
   ]
  },
  {
   "cell_type": "code",
   "execution_count": 4,
   "metadata": {},
   "outputs": [
    {
     "name": "stdout",
     "output_type": "stream",
     "text": [
      "torch.Size([1024, 1, 32, 32])\n",
      "torch.Size([3, 4354, 274])\n"
     ]
    },
    {
     "data": {
      "image/png": "[encoded data removed]",
      "text/plain": [
       "<Figure size 640x480 with 1 Axes>"
      ]
     },
     "metadata": {},
     "output_type": "display_data"
    }
   ],
   "source": [
    "def imshow(inp, title=None):\n",
    "    \"\"\"Display image for Tensor.\"\"\"\n",
    "    inp = inp.numpy().transpose((1, 2, 0))\n",
    "    #inp = std * inp + mean\n",
    "    inp = np.clip(inp, 0, 1)\n",
    "    plt.imshow(inp)\n",
    "    if title is not None:\n",
    "        plt.title(title)\n",
    "    plt.pause(0.001)  # pause a bit so that plots are updated\n",
    "\n",
    "\n",
    "# Get a batch of training data\n",
    "inputs, classes = next(iter(dataloaders['train']))\n",
    "print(inputs.shape)\n",
    "\n",
    "# Make a grid from batch\n",
    "out = torchvision.utils.make_grid(inputs)\n",
    "print(out.shape)\n",
    "\n",
    "imshow(out, title=\"temp\")"
   ]
  },
  {
   "cell_type": "markdown",
   "metadata": {},
   "source": [
    "## Model Training"
   ]
  },
  {
   "cell_type": "code",
   "execution_count": 5,
   "metadata": {},
   "outputs": [],
   "source": [
    "def train_model(model, criterion, optimizer, scheduler, num_epochs=25):\n",
    "    since = time.time()\n",
    "\n",
    "    if torch.cuda.is_available():\n",
    "        model = model.cuda()\n",
    "\n",
    "    with TemporaryDirectory() as tempdir:\n",
    "        best_model_params_path = os.path.join(tempdir, 'best_model_params.pt')\n",
    "\n",
    "        torch.save(model.state_dict(), best_model_params_path)\n",
    "        best_acc = 0.0\n",
    "\n",
    "        for epoch in range(num_epochs):\n",
    "            print(f'Epoch {epoch}/{num_epochs - 1}')\n",
    "            print('-' * 10)\n",
    "\n",
    "            for phase in ['train', 'val']:\n",
    "                if phase == 'train':\n",
    "                    model.train()\n",
    "                else:\n",
    "                    model.eval()\n",
    "\n",
    "                running_loss = 0.0\n",
    "                running_corrects = 0\n",
    "                count = 0\n",
    "                for inputs, labels in dataloaders[phase]:\n",
    "                    inputs = np.repeat(inputs, 3, axis=1)\n",
    "                    count += len(labels)\n",
    "                    if torch.cuda.is_available():\n",
    "                        inputs = inputs.cuda()\n",
    "                        labels = labels.cuda()\n",
    "\n",
    "                    optimizer.zero_grad()\n",
    "\n",
    "                    with torch.set_grad_enabled(phase == 'train'):\n",
    "                        outputs = model(inputs)\n",
    "                        _, preds = torch.max(outputs, 1)\n",
    "                        loss = criterion(outputs, labels)\n",
    "\n",
    "                        if phase == 'train':\n",
    "                            loss.backward()\n",
    "                            optimizer.step()\n",
    "                        \n",
    "                    running_loss += loss.item() * inputs.size(0)\n",
    "                    running_corrects += torch.sum(preds == labels.data)\n",
    "                if phase == 'train':\n",
    "                    scheduler.step()\n",
    "\n",
    "                epoch_loss = running_loss / count\n",
    "                epoch_acc = running_corrects.double() / count\n",
    "\n",
    "                print(f'{phase} Loss: {epoch_loss:.4f} Acc: {epoch_acc:.4f}')\n",
    "\n",
    "                if phase == 'val' and epoch_acc > best_acc:\n",
    "                    best_acc = epoch_acc\n",
    "                    torch.save(model.state_dict(), best_model_params_path)\n",
    "\n",
    "            print()\n",
    "\n",
    "        time_elapsed = time.time() - since\n",
    "        print(f'Training complete in {time_elapsed // 60:.0f}m {time_elapsed % 60:.0f}s')\n",
    "        print(f'Best val Acc: {best_acc:4f}')\n",
    "\n",
    "        model.load_state_dict(torch.load(best_model_params_path))\n",
    "    return model"
   ]
  },
  {
   "cell_type": "code",
   "execution_count": 6,
   "metadata": {},
   "outputs": [],
   "source": [
    "def visualize_model(model, num_images=6):\n",
    "    was_training = model.training\n",
    "    model.eval()\n",
    "    images_so_far = 0\n",
    "    fig = plt.figure()\n",
    "\n",
    "    with torch.no_grad():\n",
    "        for i, (inputs, labels) in enumerate(dataloaders['val']):\n",
    "            # if it errors here u probably have to do the same grayscale to rgb stacking i did earlier\n",
    "            inputs = inputs.to(device)\n",
    "            labels = labels.to(device)\n",
    "            inputs = inputs.repeat(1, 3, 1, 1)\n",
    "            outputs = model(inputs)\n",
    "            _, preds = torch.max(outputs, 1)\n",
    "\n",
    "            for j in range(inputs.size()[0]):\n",
    "                images_so_far += 1\n",
    "                ax = plt.subplot(num_images//2, 2, images_so_far)\n",
    "                ax.axis('off')\n",
    "                ax.set_title(f'predicted: {class_names[preds[j]]}')\n",
    "                imshow(inputs.cpu().data[j])\n",
    "\n",
    "                if images_so_far == num_images:\n",
    "                    model.train(mode=was_training)\n",
    "                    return\n",
    "        model.train(mode=was_training)"
   ]
  },
  {
   "cell_type": "markdown",
   "metadata": {},
   "source": [
    "Summarize pre-trained ResNet18"
   ]
  },
  {
   "cell_type": "code",
   "execution_count": 8,
   "metadata": {},
   "outputs": [
    {
     "data": {
      "text/plain": [
       "=============================================================================================================================\n",
       "Layer (type (var_name))                       Input Shape          Output Shape         Param #              Trainable\n",
       "=============================================================================================================================\n",
       "SqueezeNet (SqueezeNet)                       [64, 3, 32, 32]      [64, 1000]           --                   True\n",
       "├─Sequential (features)                       [64, 3, 32, 32]      [64, 512, 1, 1]      --                   True\n",
       "│    └─Conv2d (0)                             [64, 3, 32, 32]      [64, 64, 15, 15]     1,792                True\n",
       "│    └─ReLU (1)                               [64, 64, 15, 15]     [64, 64, 15, 15]     --                   --\n",
       "│    └─MaxPool2d (2)                          [64, 64, 15, 15]     [64, 64, 7, 7]       --                   --\n",
       "│    └─Fire (3)                               [64, 64, 7, 7]       [64, 128, 7, 7]      --                   True\n",
       "│    │    └─Conv2d (squeeze)                  [64, 64, 7, 7]       [64, 16, 7, 7]       1,040                True\n",
       "│    │    └─ReLU (squeeze_activation)         [64, 16, 7, 7]       [64, 16, 7, 7]       --                   --\n",
       "│    │    └─Conv2d (expand1x1)                [64, 16, 7, 7]       [64, 64, 7, 7]       1,088                True\n",
       "│    │    └─ReLU (expand1x1_activation)       [64, 64, 7, 7]       [64, 64, 7, 7]       --                   --\n",
       "│    │    └─Conv2d (expand3x3)                [64, 16, 7, 7]       [64, 64, 7, 7]       9,280                True\n",
       "│    │    └─ReLU (expand3x3_activation)       [64, 64, 7, 7]       [64, 64, 7, 7]       --                   --\n",
       "│    └─Fire (4)                               [64, 128, 7, 7]      [64, 128, 7, 7]      --                   True\n",
       "│    │    └─Conv2d (squeeze)                  [64, 128, 7, 7]      [64, 16, 7, 7]       2,064                True\n",
       "│    │    └─ReLU (squeeze_activation)         [64, 16, 7, 7]       [64, 16, 7, 7]       --                   --\n",
       "│    │    └─Conv2d (expand1x1)                [64, 16, 7, 7]       [64, 64, 7, 7]       1,088                True\n",
       "│    │    └─ReLU (expand1x1_activation)       [64, 64, 7, 7]       [64, 64, 7, 7]       --                   --\n",
       "│    │    └─Conv2d (expand3x3)                [64, 16, 7, 7]       [64, 64, 7, 7]       9,280                True\n",
       "│    │    └─ReLU (expand3x3_activation)       [64, 64, 7, 7]       [64, 64, 7, 7]       --                   --\n",
       "│    └─MaxPool2d (5)                          [64, 128, 7, 7]      [64, 128, 3, 3]      --                   --\n",
       "│    └─Fire (6)                               [64, 128, 3, 3]      [64, 256, 3, 3]      --                   True\n",
       "│    │    └─Conv2d (squeeze)                  [64, 128, 3, 3]      [64, 32, 3, 3]       4,128                True\n",
       "│    │    └─ReLU (squeeze_activation)         [64, 32, 3, 3]       [64, 32, 3, 3]       --                   --\n",
       "│    │    └─Conv2d (expand1x1)                [64, 32, 3, 3]       [64, 128, 3, 3]      4,224                True\n",
       "│    │    └─ReLU (expand1x1_activation)       [64, 128, 3, 3]      [64, 128, 3, 3]      --                   --\n",
       "│    │    └─Conv2d (expand3x3)                [64, 32, 3, 3]       [64, 128, 3, 3]      36,992               True\n",
       "│    │    └─ReLU (expand3x3_activation)       [64, 128, 3, 3]      [64, 128, 3, 3]      --                   --\n",
       "│    └─Fire (7)                               [64, 256, 3, 3]      [64, 256, 3, 3]      --                   True\n",
       "│    │    └─Conv2d (squeeze)                  [64, 256, 3, 3]      [64, 32, 3, 3]       8,224                True\n",
       "│    │    └─ReLU (squeeze_activation)         [64, 32, 3, 3]       [64, 32, 3, 3]       --                   --\n",
       "│    │    └─Conv2d (expand1x1)                [64, 32, 3, 3]       [64, 128, 3, 3]      4,224                True\n",
       "│    │    └─ReLU (expand1x1_activation)       [64, 128, 3, 3]      [64, 128, 3, 3]      --                   --\n",
       "│    │    └─Conv2d (expand3x3)                [64, 32, 3, 3]       [64, 128, 3, 3]      36,992               True\n",
       "│    │    └─ReLU (expand3x3_activation)       [64, 128, 3, 3]      [64, 128, 3, 3]      --                   --\n",
       "│    └─MaxPool2d (8)                          [64, 256, 3, 3]      [64, 256, 1, 1]      --                   --\n",
       "│    └─Fire (9)                               [64, 256, 1, 1]      [64, 384, 1, 1]      --                   True\n",
       "│    │    └─Conv2d (squeeze)                  [64, 256, 1, 1]      [64, 48, 1, 1]       12,336               True\n",
       "│    │    └─ReLU (squeeze_activation)         [64, 48, 1, 1]       [64, 48, 1, 1]       --                   --\n",
       "│    │    └─Conv2d (expand1x1)                [64, 48, 1, 1]       [64, 192, 1, 1]      9,408                True\n",
       "│    │    └─ReLU (expand1x1_activation)       [64, 192, 1, 1]      [64, 192, 1, 1]      --                   --\n",
       "│    │    └─Conv2d (expand3x3)                [64, 48, 1, 1]       [64, 192, 1, 1]      83,136               True\n",
       "│    │    └─ReLU (expand3x3_activation)       [64, 192, 1, 1]      [64, 192, 1, 1]      --                   --\n",
       "│    └─Fire (10)                              [64, 384, 1, 1]      [64, 384, 1, 1]      --                   True\n",
       "│    │    └─Conv2d (squeeze)                  [64, 384, 1, 1]      [64, 48, 1, 1]       18,480               True\n",
       "│    │    └─ReLU (squeeze_activation)         [64, 48, 1, 1]       [64, 48, 1, 1]       --                   --\n",
       "│    │    └─Conv2d (expand1x1)                [64, 48, 1, 1]       [64, 192, 1, 1]      9,408                True\n",
       "│    │    └─ReLU (expand1x1_activation)       [64, 192, 1, 1]      [64, 192, 1, 1]      --                   --\n",
       "│    │    └─Conv2d (expand3x3)                [64, 48, 1, 1]       [64, 192, 1, 1]      83,136               True\n",
       "│    │    └─ReLU (expand3x3_activation)       [64, 192, 1, 1]      [64, 192, 1, 1]      --                   --\n",
       "│    └─Fire (11)                              [64, 384, 1, 1]      [64, 512, 1, 1]      --                   True\n",
       "│    │    └─Conv2d (squeeze)                  [64, 384, 1, 1]      [64, 64, 1, 1]       24,640               True\n",
       "│    │    └─ReLU (squeeze_activation)         [64, 64, 1, 1]       [64, 64, 1, 1]       --                   --\n",
       "│    │    └─Conv2d (expand1x1)                [64, 64, 1, 1]       [64, 256, 1, 1]      16,640               True\n",
       "│    │    └─ReLU (expand1x1_activation)       [64, 256, 1, 1]      [64, 256, 1, 1]      --                   --\n",
       "│    │    └─Conv2d (expand3x3)                [64, 64, 1, 1]       [64, 256, 1, 1]      147,712              True\n",
       "│    │    └─ReLU (expand3x3_activation)       [64, 256, 1, 1]      [64, 256, 1, 1]      --                   --\n",
       "│    └─Fire (12)                              [64, 512, 1, 1]      [64, 512, 1, 1]      --                   True\n",
       "│    │    └─Conv2d (squeeze)                  [64, 512, 1, 1]      [64, 64, 1, 1]       32,832               True\n",
       "│    │    └─ReLU (squeeze_activation)         [64, 64, 1, 1]       [64, 64, 1, 1]       --                   --\n",
       "│    │    └─Conv2d (expand1x1)                [64, 64, 1, 1]       [64, 256, 1, 1]      16,640               True\n",
       "│    │    └─ReLU (expand1x1_activation)       [64, 256, 1, 1]      [64, 256, 1, 1]      --                   --\n",
       "│    │    └─Conv2d (expand3x3)                [64, 64, 1, 1]       [64, 256, 1, 1]      147,712              True\n",
       "│    │    └─ReLU (expand3x3_activation)       [64, 256, 1, 1]      [64, 256, 1, 1]      --                   --\n",
       "├─Sequential (classifier)                     [64, 512, 1, 1]      [64, 1000, 1, 1]     --                   True\n",
       "│    └─Dropout (0)                            [64, 512, 1, 1]      [64, 512, 1, 1]      --                   --\n",
       "│    └─Conv2d (1)                             [64, 512, 1, 1]      [64, 1000, 1, 1]     513,000              True\n",
       "│    └─ReLU (2)                               [64, 1000, 1, 1]     [64, 1000, 1, 1]     --                   --\n",
       "│    └─AdaptiveAvgPool2d (3)                  [64, 1000, 1, 1]     [64, 1000, 1, 1]     --                   --\n",
       "=============================================================================================================================\n",
       "Total params: 1,235,496\n",
       "Trainable params: 1,235,496\n",
       "Non-trainable params: 0\n",
       "Total mult-adds (Units.MEGABYTES): 226.53\n",
       "=============================================================================================================================\n",
       "Input size (MB): 0.79\n",
       "Forward/backward pass size (MB): 18.80\n",
       "Params size (MB): 4.94\n",
       "Estimated Total Size (MB): 24.53\n",
       "============================================================================================================================="
      ]
     },
     "execution_count": 8,
     "metadata": {},
     "output_type": "execute_result"
    }
   ],
   "source": [
    "from torchinfo import summary\n",
    "\n",
    "\n",
    "model_ft = models.squeezenet1_1(weights=SqueezeNet1_1_Weights.IMAGENET1K_V1)\n",
    "summary(model=model_ft, \n",
    "        verbose=0,\n",
    "        input_size=(64, 3, 32, 32),\n",
    "        col_names=[\"input_size\", \"output_size\", \"num_params\", \"trainable\"],\n",
    "        col_width=20,\n",
    "        row_settings=[\"var_names\"])"
   ]
  },
  {
   "cell_type": "markdown",
   "metadata": {},
   "source": [
    "Modify last linear classification layer and freeze previous layers in preparation for transfer learning"
   ]
  },
  {
   "cell_type": "code",
   "execution_count": 9,
   "metadata": {},
   "outputs": [
    {
     "data": {
      "text/plain": [
       "=============================================================================================================================\n",
       "Layer (type (var_name))                       Input Shape          Output Shape         Param #              Trainable\n",
       "=============================================================================================================================\n",
       "SqueezeNet (SqueezeNet)                       [64, 3, 32, 32]      [64, 40]             --                   Partial\n",
       "├─Sequential (features)                       [64, 3, 32, 32]      [64, 512, 1, 1]      --                   False\n",
       "│    └─Conv2d (0)                             [64, 3, 32, 32]      [64, 64, 15, 15]     (1,792)              False\n",
       "│    └─ReLU (1)                               [64, 64, 15, 15]     [64, 64, 15, 15]     --                   --\n",
       "│    └─MaxPool2d (2)                          [64, 64, 15, 15]     [64, 64, 7, 7]       --                   --\n",
       "│    └─Fire (3)                               [64, 64, 7, 7]       [64, 128, 7, 7]      --                   False\n",
       "│    │    └─Conv2d (squeeze)                  [64, 64, 7, 7]       [64, 16, 7, 7]       (1,040)              False\n",
       "│    │    └─ReLU (squeeze_activation)         [64, 16, 7, 7]       [64, 16, 7, 7]       --                   --\n",
       "│    │    └─Conv2d (expand1x1)                [64, 16, 7, 7]       [64, 64, 7, 7]       (1,088)              False\n",
       "│    │    └─ReLU (expand1x1_activation)       [64, 64, 7, 7]       [64, 64, 7, 7]       --                   --\n",
       "│    │    └─Conv2d (expand3x3)                [64, 16, 7, 7]       [64, 64, 7, 7]       (9,280)              False\n",
       "│    │    └─ReLU (expand3x3_activation)       [64, 64, 7, 7]       [64, 64, 7, 7]       --                   --\n",
       "│    └─Fire (4)                               [64, 128, 7, 7]      [64, 128, 7, 7]      --                   False\n",
       "│    │    └─Conv2d (squeeze)                  [64, 128, 7, 7]      [64, 16, 7, 7]       (2,064)              False\n",
       "│    │    └─ReLU (squeeze_activation)         [64, 16, 7, 7]       [64, 16, 7, 7]       --                   --\n",
       "│    │    └─Conv2d (expand1x1)                [64, 16, 7, 7]       [64, 64, 7, 7]       (1,088)              False\n",
       "│    │    └─ReLU (expand1x1_activation)       [64, 64, 7, 7]       [64, 64, 7, 7]       --                   --\n",
       "│    │    └─Conv2d (expand3x3)                [64, 16, 7, 7]       [64, 64, 7, 7]       (9,280)              False\n",
       "│    │    └─ReLU (expand3x3_activation)       [64, 64, 7, 7]       [64, 64, 7, 7]       --                   --\n",
       "│    └─MaxPool2d (5)                          [64, 128, 7, 7]      [64, 128, 3, 3]      --                   --\n",
       "│    └─Fire (6)                               [64, 128, 3, 3]      [64, 256, 3, 3]      --                   False\n",
       "│    │    └─Conv2d (squeeze)                  [64, 128, 3, 3]      [64, 32, 3, 3]       (4,128)              False\n",
       "│    │    └─ReLU (squeeze_activation)         [64, 32, 3, 3]       [64, 32, 3, 3]       --                   --\n",
       "│    │    └─Conv2d (expand1x1)                [64, 32, 3, 3]       [64, 128, 3, 3]      (4,224)              False\n",
       "│    │    └─ReLU (expand1x1_activation)       [64, 128, 3, 3]      [64, 128, 3, 3]      --                   --\n",
       "│    │    └─Conv2d (expand3x3)                [64, 32, 3, 3]       [64, 128, 3, 3]      (36,992)             False\n",
       "│    │    └─ReLU (expand3x3_activation)       [64, 128, 3, 3]      [64, 128, 3, 3]      --                   --\n",
       "│    └─Fire (7)                               [64, 256, 3, 3]      [64, 256, 3, 3]      --                   False\n",
       "│    │    └─Conv2d (squeeze)                  [64, 256, 3, 3]      [64, 32, 3, 3]       (8,224)              False\n",
       "│    │    └─ReLU (squeeze_activation)         [64, 32, 3, 3]       [64, 32, 3, 3]       --                   --\n",
       "│    │    └─Conv2d (expand1x1)                [64, 32, 3, 3]       [64, 128, 3, 3]      (4,224)              False\n",
       "│    │    └─ReLU (expand1x1_activation)       [64, 128, 3, 3]      [64, 128, 3, 3]      --                   --\n",
       "│    │    └─Conv2d (expand3x3)                [64, 32, 3, 3]       [64, 128, 3, 3]      (36,992)             False\n",
       "│    │    └─ReLU (expand3x3_activation)       [64, 128, 3, 3]      [64, 128, 3, 3]      --                   --\n",
       "│    └─MaxPool2d (8)                          [64, 256, 3, 3]      [64, 256, 1, 1]      --                   --\n",
       "│    └─Fire (9)                               [64, 256, 1, 1]      [64, 384, 1, 1]      --                   False\n",
       "│    │    └─Conv2d (squeeze)                  [64, 256, 1, 1]      [64, 48, 1, 1]       (12,336)             False\n",
       "│    │    └─ReLU (squeeze_activation)         [64, 48, 1, 1]       [64, 48, 1, 1]       --                   --\n",
       "│    │    └─Conv2d (expand1x1)                [64, 48, 1, 1]       [64, 192, 1, 1]      (9,408)              False\n",
       "│    │    └─ReLU (expand1x1_activation)       [64, 192, 1, 1]      [64, 192, 1, 1]      --                   --\n",
       "│    │    └─Conv2d (expand3x3)                [64, 48, 1, 1]       [64, 192, 1, 1]      (83,136)             False\n",
       "│    │    └─ReLU (expand3x3_activation)       [64, 192, 1, 1]      [64, 192, 1, 1]      --                   --\n",
       "│    └─Fire (10)                              [64, 384, 1, 1]      [64, 384, 1, 1]      --                   False\n",
       "│    │    └─Conv2d (squeeze)                  [64, 384, 1, 1]      [64, 48, 1, 1]       (18,480)             False\n",
       "│    │    └─ReLU (squeeze_activation)         [64, 48, 1, 1]       [64, 48, 1, 1]       --                   --\n",
       "│    │    └─Conv2d (expand1x1)                [64, 48, 1, 1]       [64, 192, 1, 1]      (9,408)              False\n",
       "│    │    └─ReLU (expand1x1_activation)       [64, 192, 1, 1]      [64, 192, 1, 1]      --                   --\n",
       "│    │    └─Conv2d (expand3x3)                [64, 48, 1, 1]       [64, 192, 1, 1]      (83,136)             False\n",
       "│    │    └─ReLU (expand3x3_activation)       [64, 192, 1, 1]      [64, 192, 1, 1]      --                   --\n",
       "│    └─Fire (11)                              [64, 384, 1, 1]      [64, 512, 1, 1]      --                   False\n",
       "│    │    └─Conv2d (squeeze)                  [64, 384, 1, 1]      [64, 64, 1, 1]       (24,640)             False\n",
       "│    │    └─ReLU (squeeze_activation)         [64, 64, 1, 1]       [64, 64, 1, 1]       --                   --\n",
       "│    │    └─Conv2d (expand1x1)                [64, 64, 1, 1]       [64, 256, 1, 1]      (16,640)             False\n",
       "│    │    └─ReLU (expand1x1_activation)       [64, 256, 1, 1]      [64, 256, 1, 1]      --                   --\n",
       "│    │    └─Conv2d (expand3x3)                [64, 64, 1, 1]       [64, 256, 1, 1]      (147,712)            False\n",
       "│    │    └─ReLU (expand3x3_activation)       [64, 256, 1, 1]      [64, 256, 1, 1]      --                   --\n",
       "│    └─Fire (12)                              [64, 512, 1, 1]      [64, 512, 1, 1]      --                   False\n",
       "│    │    └─Conv2d (squeeze)                  [64, 512, 1, 1]      [64, 64, 1, 1]       (32,832)             False\n",
       "│    │    └─ReLU (squeeze_activation)         [64, 64, 1, 1]       [64, 64, 1, 1]       --                   --\n",
       "│    │    └─Conv2d (expand1x1)                [64, 64, 1, 1]       [64, 256, 1, 1]      (16,640)             False\n",
       "│    │    └─ReLU (expand1x1_activation)       [64, 256, 1, 1]      [64, 256, 1, 1]      --                   --\n",
       "│    │    └─Conv2d (expand3x3)                [64, 64, 1, 1]       [64, 256, 1, 1]      (147,712)            False\n",
       "│    │    └─ReLU (expand3x3_activation)       [64, 256, 1, 1]      [64, 256, 1, 1]      --                   --\n",
       "├─Sequential (classifier)                     [64, 512, 1, 1]      [64, 40, 1, 1]       --                   True\n",
       "│    └─Dropout (0)                            [64, 512, 1, 1]      [64, 512, 1, 1]      --                   --\n",
       "│    └─Conv2d (1)                             [64, 512, 1, 1]      [64, 40, 1, 1]       20,520               True\n",
       "│    └─ReLU (2)                               [64, 40, 1, 1]       [64, 40, 1, 1]       --                   --\n",
       "│    └─AdaptiveAvgPool2d (3)                  [64, 40, 1, 1]       [64, 40, 1, 1]       --                   --\n",
       "=============================================================================================================================\n",
       "Total params: 743,016\n",
       "Trainable params: 20,520\n",
       "Non-trainable params: 722,496\n",
       "Total mult-adds (Units.MEGABYTES): 195.01\n",
       "=============================================================================================================================\n",
       "Input size (MB): 0.79\n",
       "Forward/backward pass size (MB): 18.31\n",
       "Params size (MB): 2.97\n",
       "Estimated Total Size (MB): 22.06\n",
       "============================================================================================================================="
      ]
     },
     "execution_count": 9,
     "metadata": {},
     "output_type": "execute_result"
    }
   ],
   "source": [
    "for param in model_ft.parameters():\n",
    "    param.requires_grad = False\n",
    "\n",
    "# alter output size of last linear layer (fc)\n",
    "num_ftrs = model_ft.classifier[1].in_channels\n",
    "model_ft.classifier[1] = nn.Conv2d(num_ftrs, num_classes, kernel_size=(1,1), stride=(1,1))\n",
    "\n",
    "model_ft = model_ft.to(device)\n",
    "\n",
    "summary(model=model_ft, \n",
    "        verbose=0,\n",
    "        input_size=(64, 3, 32, 32),\n",
    "        col_names=[\"input_size\", \"output_size\", \"num_params\", \"trainable\"],\n",
    "        col_width=20,\n",
    "        row_settings=[\"var_names\"])"
   ]
  },
  {
   "cell_type": "markdown",
   "metadata": {},
   "source": [
    "Initialize loss criterion and training optimizer"
   ]
  },
  {
   "cell_type": "code",
   "execution_count": 10,
   "metadata": {},
   "outputs": [],
   "source": [
    "criterion = nn.CrossEntropyLoss()\n",
    "\n",
    "# Observe that all parameters are being optimized\n",
    "optimizer_ft = optim.SGD(model_ft.classifier.parameters(), lr=0.001, momentum=0.9)\n",
    "\n",
    "# Decay LR by a factor of 0.1 every 7 epochs\n",
    "exp_lr_scheduler = lr_scheduler.StepLR(optimizer_ft, step_size=7, gamma=0.1)"
   ]
  },
  {
   "cell_type": "markdown",
   "metadata": {},
   "source": [
    "Training loop"
   ]
  },
  {
   "cell_type": "code",
   "execution_count": 11,
   "metadata": {},
   "outputs": [
    {
     "name": "stdout",
     "output_type": "stream",
     "text": [
      "Epoch 0/24\n",
      "----------\n"
     ]
    },
    {
     "name": "stdout",
     "output_type": "stream",
     "text": [
      "train Loss: 3.0295 Acc: 0.3024\n",
      "val Loss: 2.5069 Acc: 0.4061\n",
      "\n",
      "Epoch 1/24\n",
      "----------\n",
      "train Loss: 2.6239 Acc: 0.3776\n",
      "val Loss: 2.4847 Acc: 0.4122\n",
      "\n",
      "Epoch 2/24\n",
      "----------\n",
      "train Loss: 2.5819 Acc: 0.3929\n",
      "val Loss: 2.4045 Acc: 0.4310\n",
      "\n",
      "Epoch 3/24\n",
      "----------\n",
      "train Loss: 2.5533 Acc: 0.4013\n",
      "val Loss: 2.4444 Acc: 0.4239\n",
      "\n",
      "Epoch 4/24\n",
      "----------\n",
      "train Loss: 2.5333 Acc: 0.4061\n",
      "val Loss: 2.4215 Acc: 0.4294\n",
      "\n",
      "Epoch 5/24\n",
      "----------\n",
      "train Loss: 2.5287 Acc: 0.4075\n",
      "val Loss: 2.4222 Acc: 0.4248\n",
      "\n",
      "Epoch 6/24\n",
      "----------\n",
      "train Loss: 2.5041 Acc: 0.4132\n",
      "val Loss: 2.2473 Acc: 0.4721\n",
      "\n",
      "Epoch 7/24\n",
      "----------\n",
      "train Loss: 2.3773 Acc: 0.4428\n",
      "val Loss: 2.2279 Acc: 0.4778\n",
      "\n",
      "Epoch 8/24\n",
      "----------\n",
      "train Loss: 2.3710 Acc: 0.4437\n",
      "val Loss: 2.2225 Acc: 0.4778\n",
      "\n",
      "Epoch 9/24\n",
      "----------\n",
      "train Loss: 2.3702 Acc: 0.4446\n",
      "val Loss: 2.2219 Acc: 0.4811\n",
      "\n",
      "Epoch 10/24\n",
      "----------\n",
      "train Loss: 2.3686 Acc: 0.4443\n",
      "val Loss: 2.2267 Acc: 0.4808\n",
      "\n",
      "Epoch 11/24\n",
      "----------\n",
      "train Loss: 2.3652 Acc: 0.4460\n",
      "val Loss: 2.2271 Acc: 0.4769\n",
      "\n",
      "Epoch 12/24\n",
      "----------\n",
      "train Loss: 2.3670 Acc: 0.4449\n",
      "val Loss: 2.2211 Acc: 0.4818\n",
      "\n",
      "Epoch 13/24\n",
      "----------\n",
      "train Loss: 2.3640 Acc: 0.4459\n",
      "val Loss: 2.2221 Acc: 0.4824\n",
      "\n",
      "Epoch 14/24\n",
      "----------\n",
      "train Loss: 2.3623 Acc: 0.4469\n",
      "val Loss: 2.2193 Acc: 0.4822\n",
      "\n",
      "Epoch 15/24\n",
      "----------\n",
      "train Loss: 2.3602 Acc: 0.4474\n",
      "val Loss: 2.2194 Acc: 0.4820\n",
      "\n",
      "Epoch 16/24\n",
      "----------\n",
      "train Loss: 2.3603 Acc: 0.4471\n",
      "val Loss: 2.2192 Acc: 0.4825\n",
      "\n",
      "Epoch 17/24\n",
      "----------\n",
      "train Loss: 2.3619 Acc: 0.4472\n",
      "val Loss: 2.2177 Acc: 0.4827\n",
      "\n",
      "Epoch 18/24\n",
      "----------\n",
      "train Loss: 2.3604 Acc: 0.4468\n",
      "val Loss: 2.2183 Acc: 0.4823\n",
      "\n",
      "Epoch 19/24\n",
      "----------\n",
      "train Loss: 2.3626 Acc: 0.4465\n",
      "val Loss: 2.2193 Acc: 0.4832\n",
      "\n",
      "Epoch 20/24\n",
      "----------\n",
      "train Loss: 2.3613 Acc: 0.4473\n",
      "val Loss: 2.2189 Acc: 0.4829\n",
      "\n",
      "Epoch 21/24\n",
      "----------\n",
      "train Loss: 2.3597 Acc: 0.4473\n",
      "val Loss: 2.2187 Acc: 0.4824\n",
      "\n",
      "Epoch 22/24\n",
      "----------\n",
      "train Loss: 2.3610 Acc: 0.4476\n",
      "val Loss: 2.2188 Acc: 0.4823\n",
      "\n",
      "Epoch 23/24\n",
      "----------\n",
      "train Loss: 2.3585 Acc: 0.4480\n",
      "val Loss: 2.2187 Acc: 0.4822\n",
      "\n",
      "Epoch 24/24\n",
      "----------\n",
      "train Loss: 2.3595 Acc: 0.4477\n",
      "val Loss: 2.2186 Acc: 0.4823\n",
      "\n",
      "Training complete in 2m 29s\n",
      "Best val Acc: 0.483168\n"
     ]
    }
   ],
   "source": [
    "model_ft = train_model(model_ft, criterion, optimizer_ft, exp_lr_scheduler,\n",
    "                       num_epochs=25)"
   ]
  },
  {
   "cell_type": "markdown",
   "metadata": {},
   "source": [
    "Model Visualization"
   ]
  },
  {
   "cell_type": "code",
   "execution_count": 12,
   "metadata": {},
   "outputs": [
    {
     "data": {
      "image/png": "[encoded data removed]",
      "text/plain": [
       "<Figure size 640x480 with 1 Axes>"
      ]
     },
     "metadata": {},
     "output_type": "display_data"
    },
    {
     "data": {
      "image/png": "[encoded data removed]",
      "text/plain": [
       "<Figure size 640x480 with 1 Axes>"
      ]
     },
     "metadata": {},
     "output_type": "display_data"
    },
    {
     "data": {
      "image/png": "[encoded data removed]",
      "text/plain": [
       "<Figure size 640x480 with 1 Axes>"
      ]
     },
     "metadata": {},
     "output_type": "display_data"
    },
    {
     "data": {
      "image/png": "[encoded data removed]",
      "text/plain": [
       "<Figure size 640x480 with 1 Axes>"
      ]
     },
     "metadata": {},
     "output_type": "display_data"
    },
    {
     "data": {
      "image/png": "[encoded data removed]",
      "text/plain": [
       "<Figure size 640x480 with 1 Axes>"
      ]
     },
     "metadata": {},
     "output_type": "display_data"
    },
    {
     "data": {
      "image/png": "[encoded data removed]",
      "text/plain": [
       "<Figure size 640x480 with 1 Axes>"
      ]
     },
     "metadata": {},
     "output_type": "display_data"
    },
    {
     "data": {
      "image/png": "[encoded data removed]",
      "text/plain": [
       "<Figure size 640x480 with 1 Axes>"
      ]
     },
     "metadata": {},
     "output_type": "display_data"
    },
    {
     "data": {
      "image/png": "[encoded data removed]",
      "text/plain": [
       "<Figure size 640x480 with 1 Axes>"
      ]
     },
     "metadata": {},
     "output_type": "display_data"
    },
    {
     "data": {
      "image/png": "[encoded data removed]",
      "text/plain": [
       "<Figure size 640x480 with 1 Axes>"
      ]
     },
     "metadata": {},
     "output_type": "display_data"
    },
    {
     "data": {
      "image/png": "[encoded data removed]",
      "text/plain": [
       "<Figure size 640x480 with 1 Axes>"
      ]
     },
     "metadata": {},
     "output_type": "display_data"
    },
    {
     "data": {
      "image/png": "[encoded data removed]",
      "text/plain": [
       "<Figure size 640x480 with 1 Axes>"
      ]
     },
     "metadata": {},
     "output_type": "display_data"
    },
    {
     "data": {
      "image/png": "[encoded data removed]",
      "text/plain": [
       "<Figure size 640x480 with 1 Axes>"
      ]
     },
     "metadata": {},
     "output_type": "display_data"
    },
    {
     "data": {
      "image/png": "[encoded data removed]",
      "text/plain": [
       "<Figure size 640x480 with 1 Axes>"
      ]
     },
     "metadata": {},
     "output_type": "display_data"
    },
    {
     "data": {
      "image/png": "[encoded data removed]",
      "text/plain": [
       "<Figure size 640x480 with 1 Axes>"
      ]
     },
     "metadata": {},
     "output_type": "display_data"
    },
    {
     "data": {
      "image/png": "[encoded data removed]",
      "text/plain": [
       "<Figure size 640x480 with 1 Axes>"
      ]
     },
     "metadata": {},
     "output_type": "display_data"
    },
    {
     "data": {
      "image/png": "[encoded data removed]",
      "text/plain": [
       "<Figure size 640x480 with 1 Axes>"
      ]
     },
     "metadata": {},
     "output_type": "display_data"
    },
    {
     "data": {
      "image/png": "[encoded data removed]",
      "text/plain": [
       "<Figure size 640x480 with 1 Axes>"
      ]
     },
     "metadata": {},
     "output_type": "display_data"
    },
    {
     "data": {
      "image/png": "[encoded data removed]",
      "text/plain": [
       "<Figure size 640x480 with 1 Axes>"
      ]
     },
     "metadata": {},
     "output_type": "display_data"
    },
    {
     "data": {
      "image/png": "[encoded data removed]",
      "text/plain": [
       "<Figure size 640x480 with 1 Axes>"
      ]
     },
     "metadata": {},
     "output_type": "display_data"
    },
    {
     "data": {
      "image/png": "[encoded data removed]",
      "text/plain": [
       "<Figure size 640x480 with 1 Axes>"
      ]
     },
     "metadata": {},
     "output_type": "display_data"
    }
   ],
   "source": [
    "visualize_model(model_ft, 20)"
   ]
  },
  {
   "cell_type": "code",
   "execution_count": 13,
   "metadata": {},
   "outputs": [],
   "source": [
    "torch.save(model_ft, 'transfer_model_squeeze_net.pth')"
   ]
  }
 ],
 "metadata": {
  "kernelspec": {
   "display_name": "Python 3",
   "language": "python",
   "name": "python3"
  },
  "language_info": {
   "codemirror_mode": {
    "name": "ipython",
    "version": 3
   },
   "file_extension": ".py",
   "mimetype": "text/x-python",
   "name": "python",
   "nbconvert_exporter": "python",
   "pygments_lexer": "ipython3",
   "version": "3.12.0"
  }
 },
 "nbformat": 4,
 "nbformat_minor": 2
}
