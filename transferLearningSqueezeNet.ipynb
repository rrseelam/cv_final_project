{
 "cells": [
  {
   "cell_type": "markdown",
   "metadata": {},
   "source": [
    "## Setup"
   ]
  },
  {
   "cell_type": "code",
   "execution_count": 44,
   "metadata": {},
   "outputs": [
    {
     "data": {
      "text/plain": [
       "<contextlib.ExitStack at 0x7f5a63edf3e0>"
      ]
     },
     "execution_count": 44,
     "metadata": {},
     "output_type": "execute_result"
    }
   ],
   "source": [
    "import torch\n",
    "import torch.nn as nn\n",
    "import torch.optim as optim\n",
    "from torch.optim import lr_scheduler\n",
    "import torch.backends.cudnn as cudnn\n",
    "import numpy as np\n",
    "import torchvision\n",
    "from torchvision import datasets, models, transforms\n",
    "from torchvision.models import SqueezeNet1_1_Weights\n",
    "import matplotlib.pyplot as plt\n",
    "import time\n",
    "import os\n",
    "from PIL import Image\n",
    "from tempfile import TemporaryDirectory\n",
    "from torch.utils.data import Dataset, DataLoader, random_split\n",
    "\n",
    "cudnn.benchmark = True\n",
    "plt.ion()"
   ]
  },
  {
   "cell_type": "markdown",
   "metadata": {},
   "source": [
    "Load data and create Dataloaders"
   ]
  },
  {
   "cell_type": "code",
   "execution_count": 45,
   "metadata": {},
   "outputs": [
    {
     "name": "stdout",
     "output_type": "stream",
     "text": [
      "(356990, 32, 32)\n"
     ]
    }
   ],
   "source": [
    "from utils import SymbolDataset, encode_labels\n",
    "\n",
    "data_dir = 'symbols.npz'\n",
    "data = np.load(data_dir)\n",
    "images = data['images']\n",
    "labels = data['labels']\n",
    "\n",
    "class_names, labels_nums = encode_labels(labels)\n",
    "\n",
    "images_tensor = torch.tensor(images).float()\n",
    "\n",
    "# NOTE: maybe try different mean and stds?\n",
    "# mean and std from imagenet are as follows:\n",
    "#  - mean = 0.4453\n",
    "#  - std  = 0.2692\n",
    "\n",
    "# Calculate the mean and standard deviation\n",
    "mean = images_tensor.mean()\n",
    "std = images_tensor.std()\n",
    "\n",
    "data_transforms = {\n",
    "    'train': transforms.Compose([ # Add in transforms if needed, and add test set\n",
    "        transforms.ToTensor(),\n",
    "        #transforms.Normalize(mean, std)\n",
    "    ]),\n",
    "    'val': transforms.Compose([\n",
    "        transforms.ToTensor(),\n",
    "        #transforms.Normalize(mean, std)\n",
    "    ]),\n",
    "}\n",
    "\n",
    "# initialize symbol dataset training splits\n",
    "dataset = SymbolDataset(images, labels_nums, transforms=data_transforms['train'])\n",
    "print(images.shape)\n",
    "train_size = int(0.8 * len(dataset))\n",
    "val_size = len(dataset) - train_size\n",
    "train_dataset, val_dataset = random_split(dataset, [train_size, val_size])\n",
    "\n",
    "# initialize dataloaders\n",
    "dataloaders = {\n",
    "    'train': DataLoader(train_dataset, batch_size=1024, shuffle=True, num_workers=4),\n",
    "    'val': DataLoader(val_dataset, batch_size=1024, shuffle=True, num_workers=4)\n",
    "}\n",
    "dataset_sizes = {x: len(dataset) for x in ['train', 'val']}\n",
    "class_names = np.unique(labels)\n",
    "num_classes = len(class_names)\n",
    "\n",
    "device = torch.device(\"cuda:0\" if torch.cuda.is_available() else \"cpu\")"
   ]
  },
  {
   "cell_type": "markdown",
   "metadata": {},
   "source": [
    "Visualize a batch of training data"
   ]
  },
  {
   "cell_type": "code",
   "execution_count": 46,
   "metadata": {},
   "outputs": [
    {
     "name": "stdout",
     "output_type": "stream",
     "text": [
      "torch.Size([1024, 1, 32, 32])\n",
      "torch.Size([3, 4354, 274])\n"
     ]
    },
    {
     "data": {
      "image/png": "[encoded data removed]",
      "text/plain": [
       "<Figure size 640x480 with 1 Axes>"
      ]
     },
     "metadata": {},
     "output_type": "display_data"
    }
   ],
   "source": [
    "def imshow(inp, title=None):\n",
    "    \"\"\"Display image for Tensor.\"\"\"\n",
    "    inp = inp.numpy().transpose((1, 2, 0))\n",
    "    #inp = std * inp + mean\n",
    "    inp = np.clip(inp, 0, 1)\n",
    "    plt.imshow(inp)\n",
    "    if title is not None:\n",
    "        plt.title(title)\n",
    "    plt.pause(0.001)  # pause a bit so that plots are updated\n",
    "\n",
    "\n",
    "# Get a batch of training data\n",
    "inputs, classes = next(iter(dataloaders['train']))\n",
    "print(inputs.shape)\n",
    "\n",
    "# Make a grid from batch\n",
    "out = torchvision.utils.make_grid(inputs)\n",
    "print(out.shape)\n",
    "\n",
    "imshow(out, title=\"temp\")"
   ]
  },
  {
   "cell_type": "markdown",
   "metadata": {},
   "source": [
    "## Model Training"
   ]
  },
  {
   "cell_type": "code",
   "execution_count": 47,
   "metadata": {},
   "outputs": [],
   "source": [
    "def train_model(model, criterion, optimizer, scheduler, num_epochs=25):\n",
    "    since = time.time()\n",
    "\n",
    "    if torch.cuda.is_available():\n",
    "        model = model.cuda()\n",
    "\n",
    "    with TemporaryDirectory() as tempdir:\n",
    "        best_model_params_path = os.path.join(tempdir, 'best_model_params.pt')\n",
    "\n",
    "        torch.save(model.state_dict(), best_model_params_path)\n",
    "        best_acc = 0.0\n",
    "\n",
    "        for epoch in range(num_epochs):\n",
    "            print(f'Epoch {epoch}/{num_epochs - 1}')\n",
    "            print('-' * 10)\n",
    "\n",
    "            for phase in ['train', 'val']:\n",
    "                if phase == 'train':\n",
    "                    model.train()\n",
    "                else:\n",
    "                    model.eval()\n",
    "\n",
    "                running_loss = 0.0\n",
    "                running_corrects = 0\n",
    "\n",
    "                for inputs, labels in dataloaders[phase]:\n",
    "                    inputs = np.repeat(inputs, 3, axis=1)\n",
    "                    if torch.cuda.is_available():\n",
    "                        inputs = inputs.cuda()\n",
    "                        labels = labels.cuda()\n",
    "\n",
    "                    optimizer.zero_grad()\n",
    "\n",
    "                    with torch.set_grad_enabled(phase == 'train'):\n",
    "                        outputs = model(inputs)\n",
    "                        _, preds = torch.max(outputs, 1)\n",
    "                        loss = criterion(outputs, labels)\n",
    "\n",
    "                        if phase == 'train':\n",
    "                            loss.backward()\n",
    "                            optimizer.step()\n",
    "                        \n",
    "                    running_loss += loss.item() * inputs.size(0)\n",
    "                    running_corrects += torch.sum(preds == labels.data)\n",
    "                if phase == 'train':\n",
    "                    scheduler.step()\n",
    "\n",
    "                epoch_loss = running_loss / dataset_sizes[phase]\n",
    "                epoch_acc = running_corrects.double() / dataset_sizes[phase]\n",
    "\n",
    "                print(f'{phase} Loss: {epoch_loss:.4f} Acc: {epoch_acc:.4f}')\n",
    "\n",
    "                if phase == 'val' and epoch_acc > best_acc:\n",
    "                    best_acc = epoch_acc\n",
    "                    torch.save(model.state_dict(), best_model_params_path)\n",
    "\n",
    "            print()\n",
    "\n",
    "        time_elapsed = time.time() - since\n",
    "        print(f'Training complete in {time_elapsed // 60:.0f}m {time_elapsed % 60:.0f}s')\n",
    "        print(f'Best val Acc: {best_acc:4f}')\n",
    "\n",
    "        model.load_state_dict(torch.load(best_model_params_path))\n",
    "    return model"
   ]
  },
  {
   "cell_type": "code",
   "execution_count": 64,
   "metadata": {},
   "outputs": [],
   "source": [
    "def visualize_model(model, num_images=6):\n",
    "    was_training = model.training\n",
    "    model.eval()\n",
    "    images_so_far = 0\n",
    "    fig = plt.figure()\n",
    "\n",
    "    with torch.no_grad():\n",
    "        for i, (inputs, labels) in enumerate(dataloaders['val']):\n",
    "            # if it errors here u probably have to do the same grayscale to rgb stacking i did earlier\n",
    "            inputs = inputs.to(device)\n",
    "            labels = labels.to(device)\n",
    "            inputs = inputs.repeat(1, 3, 1, 1)\n",
    "            outputs = model(inputs)\n",
    "            _, preds = torch.max(outputs, 1)\n",
    "\n",
    "            for j in range(inputs.size()[0]):\n",
    "                images_so_far += 1\n",
    "                ax = plt.subplot(num_images//2, 2, images_so_far)\n",
    "                ax.axis('off')\n",
    "                ax.set_title(f'predicted: {class_names[preds[j]]}')\n",
    "                imshow(inputs.cpu().data[j])\n",
    "\n",
    "                if images_so_far == num_images:\n",
    "                    model.train(mode=was_training)\n",
    "                    return\n",
    "        model.train(mode=was_training)"
   ]
  },
  {
   "cell_type": "markdown",
   "metadata": {},
   "source": [
    "Summarize pre-trained ResNet18"
   ]
  },
  {
   "cell_type": "code",
   "execution_count": 50,
   "metadata": {},
   "outputs": [
    {
     "data": {
      "text/plain": [
       "=============================================================================================================================\n",
       "Layer (type (var_name))                       Input Shape          Output Shape         Param #              Trainable\n",
       "=============================================================================================================================\n",
       "SqueezeNet (SqueezeNet)                       [1024, 3, 32, 32]    [1024, 1000]         --                   True\n",
       "├─Sequential (features)                       [1024, 3, 32, 32]    [1024, 512, 1, 1]    --                   True\n",
       "│    └─Conv2d (0)                             [1024, 3, 32, 32]    [1024, 64, 15, 15]   1,792                True\n",
       "│    └─ReLU (1)                               [1024, 64, 15, 15]   [1024, 64, 15, 15]   --                   --\n",
       "│    └─MaxPool2d (2)                          [1024, 64, 15, 15]   [1024, 64, 7, 7]     --                   --\n",
       "│    └─Fire (3)                               [1024, 64, 7, 7]     [1024, 128, 7, 7]    --                   True\n",
       "│    │    └─Conv2d (squeeze)                  [1024, 64, 7, 7]     [1024, 16, 7, 7]     1,040                True\n",
       "│    │    └─ReLU (squeeze_activation)         [1024, 16, 7, 7]     [1024, 16, 7, 7]     --                   --\n",
       "│    │    └─Conv2d (expand1x1)                [1024, 16, 7, 7]     [1024, 64, 7, 7]     1,088                True\n",
       "│    │    └─ReLU (expand1x1_activation)       [1024, 64, 7, 7]     [1024, 64, 7, 7]     --                   --\n",
       "│    │    └─Conv2d (expand3x3)                [1024, 16, 7, 7]     [1024, 64, 7, 7]     9,280                True\n",
       "│    │    └─ReLU (expand3x3_activation)       [1024, 64, 7, 7]     [1024, 64, 7, 7]     --                   --\n",
       "│    └─Fire (4)                               [1024, 128, 7, 7]    [1024, 128, 7, 7]    --                   True\n",
       "│    │    └─Conv2d (squeeze)                  [1024, 128, 7, 7]    [1024, 16, 7, 7]     2,064                True\n",
       "│    │    └─ReLU (squeeze_activation)         [1024, 16, 7, 7]     [1024, 16, 7, 7]     --                   --\n",
       "│    │    └─Conv2d (expand1x1)                [1024, 16, 7, 7]     [1024, 64, 7, 7]     1,088                True\n",
       "│    │    └─ReLU (expand1x1_activation)       [1024, 64, 7, 7]     [1024, 64, 7, 7]     --                   --\n",
       "│    │    └─Conv2d (expand3x3)                [1024, 16, 7, 7]     [1024, 64, 7, 7]     9,280                True\n",
       "│    │    └─ReLU (expand3x3_activation)       [1024, 64, 7, 7]     [1024, 64, 7, 7]     --                   --\n",
       "│    └─MaxPool2d (5)                          [1024, 128, 7, 7]    [1024, 128, 3, 3]    --                   --\n",
       "│    └─Fire (6)                               [1024, 128, 3, 3]    [1024, 256, 3, 3]    --                   True\n",
       "│    │    └─Conv2d (squeeze)                  [1024, 128, 3, 3]    [1024, 32, 3, 3]     4,128                True\n",
       "│    │    └─ReLU (squeeze_activation)         [1024, 32, 3, 3]     [1024, 32, 3, 3]     --                   --\n",
       "│    │    └─Conv2d (expand1x1)                [1024, 32, 3, 3]     [1024, 128, 3, 3]    4,224                True\n",
       "│    │    └─ReLU (expand1x1_activation)       [1024, 128, 3, 3]    [1024, 128, 3, 3]    --                   --\n",
       "│    │    └─Conv2d (expand3x3)                [1024, 32, 3, 3]     [1024, 128, 3, 3]    36,992               True\n",
       "│    │    └─ReLU (expand3x3_activation)       [1024, 128, 3, 3]    [1024, 128, 3, 3]    --                   --\n",
       "│    └─Fire (7)                               [1024, 256, 3, 3]    [1024, 256, 3, 3]    --                   True\n",
       "│    │    └─Conv2d (squeeze)                  [1024, 256, 3, 3]    [1024, 32, 3, 3]     8,224                True\n",
       "│    │    └─ReLU (squeeze_activation)         [1024, 32, 3, 3]     [1024, 32, 3, 3]     --                   --\n",
       "│    │    └─Conv2d (expand1x1)                [1024, 32, 3, 3]     [1024, 128, 3, 3]    4,224                True\n",
       "│    │    └─ReLU (expand1x1_activation)       [1024, 128, 3, 3]    [1024, 128, 3, 3]    --                   --\n",
       "│    │    └─Conv2d (expand3x3)                [1024, 32, 3, 3]     [1024, 128, 3, 3]    36,992               True\n",
       "│    │    └─ReLU (expand3x3_activation)       [1024, 128, 3, 3]    [1024, 128, 3, 3]    --                   --\n",
       "│    └─MaxPool2d (8)                          [1024, 256, 3, 3]    [1024, 256, 1, 1]    --                   --\n",
       "│    └─Fire (9)                               [1024, 256, 1, 1]    [1024, 384, 1, 1]    --                   True\n",
       "│    │    └─Conv2d (squeeze)                  [1024, 256, 1, 1]    [1024, 48, 1, 1]     12,336               True\n",
       "│    │    └─ReLU (squeeze_activation)         [1024, 48, 1, 1]     [1024, 48, 1, 1]     --                   --\n",
       "│    │    └─Conv2d (expand1x1)                [1024, 48, 1, 1]     [1024, 192, 1, 1]    9,408                True\n",
       "│    │    └─ReLU (expand1x1_activation)       [1024, 192, 1, 1]    [1024, 192, 1, 1]    --                   --\n",
       "│    │    └─Conv2d (expand3x3)                [1024, 48, 1, 1]     [1024, 192, 1, 1]    83,136               True\n",
       "│    │    └─ReLU (expand3x3_activation)       [1024, 192, 1, 1]    [1024, 192, 1, 1]    --                   --\n",
       "│    └─Fire (10)                              [1024, 384, 1, 1]    [1024, 384, 1, 1]    --                   True\n",
       "│    │    └─Conv2d (squeeze)                  [1024, 384, 1, 1]    [1024, 48, 1, 1]     18,480               True\n",
       "│    │    └─ReLU (squeeze_activation)         [1024, 48, 1, 1]     [1024, 48, 1, 1]     --                   --\n",
       "│    │    └─Conv2d (expand1x1)                [1024, 48, 1, 1]     [1024, 192, 1, 1]    9,408                True\n",
       "│    │    └─ReLU (expand1x1_activation)       [1024, 192, 1, 1]    [1024, 192, 1, 1]    --                   --\n",
       "│    │    └─Conv2d (expand3x3)                [1024, 48, 1, 1]     [1024, 192, 1, 1]    83,136               True\n",
       "│    │    └─ReLU (expand3x3_activation)       [1024, 192, 1, 1]    [1024, 192, 1, 1]    --                   --\n",
       "│    └─Fire (11)                              [1024, 384, 1, 1]    [1024, 512, 1, 1]    --                   True\n",
       "│    │    └─Conv2d (squeeze)                  [1024, 384, 1, 1]    [1024, 64, 1, 1]     24,640               True\n",
       "│    │    └─ReLU (squeeze_activation)         [1024, 64, 1, 1]     [1024, 64, 1, 1]     --                   --\n",
       "│    │    └─Conv2d (expand1x1)                [1024, 64, 1, 1]     [1024, 256, 1, 1]    16,640               True\n",
       "│    │    └─ReLU (expand1x1_activation)       [1024, 256, 1, 1]    [1024, 256, 1, 1]    --                   --\n",
       "│    │    └─Conv2d (expand3x3)                [1024, 64, 1, 1]     [1024, 256, 1, 1]    147,712              True\n",
       "│    │    └─ReLU (expand3x3_activation)       [1024, 256, 1, 1]    [1024, 256, 1, 1]    --                   --\n",
       "│    └─Fire (12)                              [1024, 512, 1, 1]    [1024, 512, 1, 1]    --                   True\n",
       "│    │    └─Conv2d (squeeze)                  [1024, 512, 1, 1]    [1024, 64, 1, 1]     32,832               True\n",
       "│    │    └─ReLU (squeeze_activation)         [1024, 64, 1, 1]     [1024, 64, 1, 1]     --                   --\n",
       "│    │    └─Conv2d (expand1x1)                [1024, 64, 1, 1]     [1024, 256, 1, 1]    16,640               True\n",
       "│    │    └─ReLU (expand1x1_activation)       [1024, 256, 1, 1]    [1024, 256, 1, 1]    --                   --\n",
       "│    │    └─Conv2d (expand3x3)                [1024, 64, 1, 1]     [1024, 256, 1, 1]    147,712              True\n",
       "│    │    └─ReLU (expand3x3_activation)       [1024, 256, 1, 1]    [1024, 256, 1, 1]    --                   --\n",
       "├─Sequential (classifier)                     [1024, 512, 1, 1]    [1024, 1000, 1, 1]   --                   True\n",
       "│    └─Dropout (0)                            [1024, 512, 1, 1]    [1024, 512, 1, 1]    --                   --\n",
       "│    └─Conv2d (1)                             [1024, 512, 1, 1]    [1024, 1000, 1, 1]   513,000              True\n",
       "│    └─ReLU (2)                               [1024, 1000, 1, 1]   [1024, 1000, 1, 1]   --                   --\n",
       "│    └─AdaptiveAvgPool2d (3)                  [1024, 1000, 1, 1]   [1024, 1000, 1, 1]   --                   --\n",
       "=============================================================================================================================\n",
       "Total params: 1,235,496\n",
       "Trainable params: 1,235,496\n",
       "Non-trainable params: 0\n",
       "Total mult-adds (Units.GIGABYTES): 3.62\n",
       "=============================================================================================================================\n",
       "Input size (MB): 12.58\n",
       "Forward/backward pass size (MB): 300.74\n",
       "Params size (MB): 4.94\n",
       "Estimated Total Size (MB): 318.27\n",
       "============================================================================================================================="
      ]
     },
     "execution_count": 50,
     "metadata": {},
     "output_type": "execute_result"
    }
   ],
   "source": [
    "from torchinfo import summary\n",
    "\n",
    "\n",
    "model_ft = models.squeezenet1_1(weights=SqueezeNet1_1_Weights.IMAGENET1K_V1)\n",
    "summary(model=model_ft, \n",
    "        verbose=0,\n",
    "        input_size=(1024, 3, 32, 32),\n",
    "        col_names=[\"input_size\", \"output_size\", \"num_params\", \"trainable\"],\n",
    "        col_width=20,\n",
    "        row_settings=[\"var_names\"])"
   ]
  },
  {
   "cell_type": "markdown",
   "metadata": {},
   "source": [
    "Modify last linear classification layer and freeze previous layers in preparation for transfer learning"
   ]
  },
  {
   "cell_type": "code",
   "execution_count": 51,
   "metadata": {},
   "outputs": [
    {
     "data": {
      "text/plain": [
       "=============================================================================================================================\n",
       "Layer (type (var_name))                       Input Shape          Output Shape         Param #              Trainable\n",
       "=============================================================================================================================\n",
       "SqueezeNet (SqueezeNet)                       [1024, 3, 32, 32]    [1024, 62]           --                   Partial\n",
       "├─Sequential (features)                       [1024, 3, 32, 32]    [1024, 512, 1, 1]    --                   False\n",
       "│    └─Conv2d (0)                             [1024, 3, 32, 32]    [1024, 64, 15, 15]   (1,792)              False\n",
       "│    └─ReLU (1)                               [1024, 64, 15, 15]   [1024, 64, 15, 15]   --                   --\n",
       "│    └─MaxPool2d (2)                          [1024, 64, 15, 15]   [1024, 64, 7, 7]     --                   --\n",
       "│    └─Fire (3)                               [1024, 64, 7, 7]     [1024, 128, 7, 7]    --                   False\n",
       "│    │    └─Conv2d (squeeze)                  [1024, 64, 7, 7]     [1024, 16, 7, 7]     (1,040)              False\n",
       "│    │    └─ReLU (squeeze_activation)         [1024, 16, 7, 7]     [1024, 16, 7, 7]     --                   --\n",
       "│    │    └─Conv2d (expand1x1)                [1024, 16, 7, 7]     [1024, 64, 7, 7]     (1,088)              False\n",
       "│    │    └─ReLU (expand1x1_activation)       [1024, 64, 7, 7]     [1024, 64, 7, 7]     --                   --\n",
       "│    │    └─Conv2d (expand3x3)                [1024, 16, 7, 7]     [1024, 64, 7, 7]     (9,280)              False\n",
       "│    │    └─ReLU (expand3x3_activation)       [1024, 64, 7, 7]     [1024, 64, 7, 7]     --                   --\n",
       "│    └─Fire (4)                               [1024, 128, 7, 7]    [1024, 128, 7, 7]    --                   False\n",
       "│    │    └─Conv2d (squeeze)                  [1024, 128, 7, 7]    [1024, 16, 7, 7]     (2,064)              False\n",
       "│    │    └─ReLU (squeeze_activation)         [1024, 16, 7, 7]     [1024, 16, 7, 7]     --                   --\n",
       "│    │    └─Conv2d (expand1x1)                [1024, 16, 7, 7]     [1024, 64, 7, 7]     (1,088)              False\n",
       "│    │    └─ReLU (expand1x1_activation)       [1024, 64, 7, 7]     [1024, 64, 7, 7]     --                   --\n",
       "│    │    └─Conv2d (expand3x3)                [1024, 16, 7, 7]     [1024, 64, 7, 7]     (9,280)              False\n",
       "│    │    └─ReLU (expand3x3_activation)       [1024, 64, 7, 7]     [1024, 64, 7, 7]     --                   --\n",
       "│    └─MaxPool2d (5)                          [1024, 128, 7, 7]    [1024, 128, 3, 3]    --                   --\n",
       "│    └─Fire (6)                               [1024, 128, 3, 3]    [1024, 256, 3, 3]    --                   False\n",
       "│    │    └─Conv2d (squeeze)                  [1024, 128, 3, 3]    [1024, 32, 3, 3]     (4,128)              False\n",
       "│    │    └─ReLU (squeeze_activation)         [1024, 32, 3, 3]     [1024, 32, 3, 3]     --                   --\n",
       "│    │    └─Conv2d (expand1x1)                [1024, 32, 3, 3]     [1024, 128, 3, 3]    (4,224)              False\n",
       "│    │    └─ReLU (expand1x1_activation)       [1024, 128, 3, 3]    [1024, 128, 3, 3]    --                   --\n",
       "│    │    └─Conv2d (expand3x3)                [1024, 32, 3, 3]     [1024, 128, 3, 3]    (36,992)             False\n",
       "│    │    └─ReLU (expand3x3_activation)       [1024, 128, 3, 3]    [1024, 128, 3, 3]    --                   --\n",
       "│    └─Fire (7)                               [1024, 256, 3, 3]    [1024, 256, 3, 3]    --                   False\n",
       "│    │    └─Conv2d (squeeze)                  [1024, 256, 3, 3]    [1024, 32, 3, 3]     (8,224)              False\n",
       "│    │    └─ReLU (squeeze_activation)         [1024, 32, 3, 3]     [1024, 32, 3, 3]     --                   --\n",
       "│    │    └─Conv2d (expand1x1)                [1024, 32, 3, 3]     [1024, 128, 3, 3]    (4,224)              False\n",
       "│    │    └─ReLU (expand1x1_activation)       [1024, 128, 3, 3]    [1024, 128, 3, 3]    --                   --\n",
       "│    │    └─Conv2d (expand3x3)                [1024, 32, 3, 3]     [1024, 128, 3, 3]    (36,992)             False\n",
       "│    │    └─ReLU (expand3x3_activation)       [1024, 128, 3, 3]    [1024, 128, 3, 3]    --                   --\n",
       "│    └─MaxPool2d (8)                          [1024, 256, 3, 3]    [1024, 256, 1, 1]    --                   --\n",
       "│    └─Fire (9)                               [1024, 256, 1, 1]    [1024, 384, 1, 1]    --                   False\n",
       "│    │    └─Conv2d (squeeze)                  [1024, 256, 1, 1]    [1024, 48, 1, 1]     (12,336)             False\n",
       "│    │    └─ReLU (squeeze_activation)         [1024, 48, 1, 1]     [1024, 48, 1, 1]     --                   --\n",
       "│    │    └─Conv2d (expand1x1)                [1024, 48, 1, 1]     [1024, 192, 1, 1]    (9,408)              False\n",
       "│    │    └─ReLU (expand1x1_activation)       [1024, 192, 1, 1]    [1024, 192, 1, 1]    --                   --\n",
       "│    │    └─Conv2d (expand3x3)                [1024, 48, 1, 1]     [1024, 192, 1, 1]    (83,136)             False\n",
       "│    │    └─ReLU (expand3x3_activation)       [1024, 192, 1, 1]    [1024, 192, 1, 1]    --                   --\n",
       "│    └─Fire (10)                              [1024, 384, 1, 1]    [1024, 384, 1, 1]    --                   False\n",
       "│    │    └─Conv2d (squeeze)                  [1024, 384, 1, 1]    [1024, 48, 1, 1]     (18,480)             False\n",
       "│    │    └─ReLU (squeeze_activation)         [1024, 48, 1, 1]     [1024, 48, 1, 1]     --                   --\n",
       "│    │    └─Conv2d (expand1x1)                [1024, 48, 1, 1]     [1024, 192, 1, 1]    (9,408)              False\n",
       "│    │    └─ReLU (expand1x1_activation)       [1024, 192, 1, 1]    [1024, 192, 1, 1]    --                   --\n",
       "│    │    └─Conv2d (expand3x3)                [1024, 48, 1, 1]     [1024, 192, 1, 1]    (83,136)             False\n",
       "│    │    └─ReLU (expand3x3_activation)       [1024, 192, 1, 1]    [1024, 192, 1, 1]    --                   --\n",
       "│    └─Fire (11)                              [1024, 384, 1, 1]    [1024, 512, 1, 1]    --                   False\n",
       "│    │    └─Conv2d (squeeze)                  [1024, 384, 1, 1]    [1024, 64, 1, 1]     (24,640)             False\n",
       "│    │    └─ReLU (squeeze_activation)         [1024, 64, 1, 1]     [1024, 64, 1, 1]     --                   --\n",
       "│    │    └─Conv2d (expand1x1)                [1024, 64, 1, 1]     [1024, 256, 1, 1]    (16,640)             False\n",
       "│    │    └─ReLU (expand1x1_activation)       [1024, 256, 1, 1]    [1024, 256, 1, 1]    --                   --\n",
       "│    │    └─Conv2d (expand3x3)                [1024, 64, 1, 1]     [1024, 256, 1, 1]    (147,712)            False\n",
       "│    │    └─ReLU (expand3x3_activation)       [1024, 256, 1, 1]    [1024, 256, 1, 1]    --                   --\n",
       "│    └─Fire (12)                              [1024, 512, 1, 1]    [1024, 512, 1, 1]    --                   False\n",
       "│    │    └─Conv2d (squeeze)                  [1024, 512, 1, 1]    [1024, 64, 1, 1]     (32,832)             False\n",
       "│    │    └─ReLU (squeeze_activation)         [1024, 64, 1, 1]     [1024, 64, 1, 1]     --                   --\n",
       "│    │    └─Conv2d (expand1x1)                [1024, 64, 1, 1]     [1024, 256, 1, 1]    (16,640)             False\n",
       "│    │    └─ReLU (expand1x1_activation)       [1024, 256, 1, 1]    [1024, 256, 1, 1]    --                   --\n",
       "│    │    └─Conv2d (expand3x3)                [1024, 64, 1, 1]     [1024, 256, 1, 1]    (147,712)            False\n",
       "│    │    └─ReLU (expand3x3_activation)       [1024, 256, 1, 1]    [1024, 256, 1, 1]    --                   --\n",
       "├─Sequential (classifier)                     [1024, 512, 1, 1]    [1024, 62, 1, 1]     --                   True\n",
       "│    └─Dropout (0)                            [1024, 512, 1, 1]    [1024, 512, 1, 1]    --                   --\n",
       "│    └─Conv2d (1)                             [1024, 512, 1, 1]    [1024, 62, 1, 1]     31,806               True\n",
       "│    └─ReLU (2)                               [1024, 62, 1, 1]     [1024, 62, 1, 1]     --                   --\n",
       "│    └─AdaptiveAvgPool2d (3)                  [1024, 62, 1, 1]     [1024, 62, 1, 1]     --                   --\n",
       "=============================================================================================================================\n",
       "Total params: 754,302\n",
       "Trainable params: 31,806\n",
       "Non-trainable params: 722,496\n",
       "Total mult-adds (Units.GIGABYTES): 3.13\n",
       "=============================================================================================================================\n",
       "Input size (MB): 12.58\n",
       "Forward/backward pass size (MB): 293.06\n",
       "Params size (MB): 3.02\n",
       "Estimated Total Size (MB): 308.66\n",
       "============================================================================================================================="
      ]
     },
     "execution_count": 51,
     "metadata": {},
     "output_type": "execute_result"
    }
   ],
   "source": [
    "for param in model_ft.parameters():\n",
    "    param.requires_grad = False\n",
    "\n",
    "# alter output size of last linear layer (fc)\n",
    "num_ftrs = model_ft.classifier[1].in_channels\n",
    "model_ft.classifier[1] = nn.Conv2d(num_ftrs, num_classes, kernel_size=(1,1), stride=(1,1))\n",
    "\n",
    "model_ft = model_ft.to(device)\n",
    "\n",
    "summary(model=model_ft, \n",
    "        verbose=0,\n",
    "        input_size=(1024, 3, 32, 32),\n",
    "        col_names=[\"input_size\", \"output_size\", \"num_params\", \"trainable\"],\n",
    "        col_width=20,\n",
    "        row_settings=[\"var_names\"])"
   ]
  },
  {
   "cell_type": "markdown",
   "metadata": {},
   "source": [
    "Initialize loss criterion and training optimizer"
   ]
  },
  {
   "cell_type": "code",
   "execution_count": 52,
   "metadata": {},
   "outputs": [],
   "source": [
    "criterion = nn.CrossEntropyLoss()\n",
    "\n",
    "# Observe that all parameters are being optimized\n",
    "optimizer_ft = optim.SGD(model_ft.classifier.parameters(), lr=0.001, momentum=0.9)\n",
    "\n",
    "# Decay LR by a factor of 0.1 every 7 epochs\n",
    "exp_lr_scheduler = lr_scheduler.StepLR(optimizer_ft, step_size=7, gamma=0.1)"
   ]
  },
  {
   "cell_type": "markdown",
   "metadata": {},
   "source": [
    "Training loop"
   ]
  },
  {
   "cell_type": "code",
   "execution_count": 53,
   "metadata": {},
   "outputs": [
    {
     "name": "stdout",
     "output_type": "stream",
     "text": [
      "Epoch 0/24\n",
      "----------\n"
     ]
    },
    {
     "name": "stdout",
     "output_type": "stream",
     "text": [
      "train Loss: 2.4606 Acc: 0.2890\n",
      "val Loss: 0.5029 Acc: 0.0902\n",
      "\n",
      "Epoch 1/24\n",
      "----------\n",
      "train Loss: 2.1306 Acc: 0.3348\n",
      "val Loss: 0.4860 Acc: 0.0944\n",
      "\n",
      "Epoch 2/24\n",
      "----------\n",
      "train Loss: 2.0865 Acc: 0.3416\n",
      "val Loss: 0.4787 Acc: 0.0973\n",
      "\n",
      "Epoch 3/24\n",
      "----------\n",
      "train Loss: 2.0515 Acc: 0.3487\n",
      "val Loss: 0.4659 Acc: 0.0987\n",
      "\n",
      "Epoch 4/24\n",
      "----------\n",
      "train Loss: 2.0177 Acc: 0.3548\n",
      "val Loss: 0.4615 Acc: 0.1009\n",
      "\n",
      "Epoch 5/24\n",
      "----------\n",
      "train Loss: 2.0132 Acc: 0.3557\n",
      "val Loss: 0.4613 Acc: 0.0988\n",
      "\n",
      "Epoch 6/24\n",
      "----------\n",
      "train Loss: 2.0008 Acc: 0.3574\n",
      "val Loss: 0.4624 Acc: 0.0983\n",
      "\n",
      "Epoch 7/24\n",
      "----------\n",
      "train Loss: 1.9487 Acc: 0.3724\n",
      "val Loss: 0.4524 Acc: 0.1024\n",
      "\n",
      "Epoch 8/24\n",
      "----------\n",
      "train Loss: 1.9410 Acc: 0.3743\n",
      "val Loss: 0.4520 Acc: 0.1025\n",
      "\n",
      "Epoch 9/24\n",
      "----------\n",
      "train Loss: 1.9402 Acc: 0.3744\n",
      "val Loss: 0.4522 Acc: 0.1027\n",
      "\n",
      "Epoch 10/24\n",
      "----------\n",
      "train Loss: 1.9326 Acc: 0.3747\n",
      "val Loss: 0.4532 Acc: 0.1009\n",
      "\n",
      "Epoch 11/24\n",
      "----------\n",
      "train Loss: 1.9311 Acc: 0.3758\n",
      "val Loss: 0.4520 Acc: 0.1022\n",
      "\n",
      "Epoch 12/24\n",
      "----------\n",
      "train Loss: 1.9299 Acc: 0.3755\n",
      "val Loss: 0.4518 Acc: 0.1024\n",
      "\n",
      "Epoch 13/24\n",
      "----------\n",
      "train Loss: 1.9281 Acc: 0.3760\n",
      "val Loss: 0.4516 Acc: 0.1022\n",
      "\n",
      "Epoch 14/24\n",
      "----------\n",
      "train Loss: 1.9262 Acc: 0.3765\n",
      "val Loss: 0.4513 Acc: 0.1026\n",
      "\n",
      "Epoch 15/24\n",
      "----------\n",
      "train Loss: 1.9238 Acc: 0.3776\n",
      "val Loss: 0.4514 Acc: 0.1027\n",
      "\n",
      "Epoch 16/24\n",
      "----------\n",
      "train Loss: 1.9255 Acc: 0.3769\n",
      "val Loss: 0.4514 Acc: 0.1027\n",
      "\n",
      "Epoch 17/24\n",
      "----------\n",
      "train Loss: 1.9237 Acc: 0.3769\n",
      "val Loss: 0.4512 Acc: 0.1027\n",
      "\n",
      "Epoch 18/24\n",
      "----------\n",
      "train Loss: 1.9254 Acc: 0.3771\n",
      "val Loss: 0.4513 Acc: 0.1027\n",
      "\n",
      "Epoch 19/24\n",
      "----------\n",
      "train Loss: 1.9235 Acc: 0.3776\n",
      "val Loss: 0.4512 Acc: 0.1027\n",
      "\n",
      "Epoch 20/24\n",
      "----------\n",
      "train Loss: 1.9255 Acc: 0.3768\n",
      "val Loss: 0.4513 Acc: 0.1026\n",
      "\n",
      "Epoch 21/24\n",
      "----------\n",
      "train Loss: 1.9254 Acc: 0.3772\n",
      "val Loss: 0.4513 Acc: 0.1026\n",
      "\n",
      "Epoch 22/24\n",
      "----------\n",
      "train Loss: 1.9249 Acc: 0.3766\n",
      "val Loss: 0.4513 Acc: 0.1027\n",
      "\n",
      "Epoch 23/24\n",
      "----------\n",
      "train Loss: 1.9242 Acc: 0.3773\n",
      "val Loss: 0.4513 Acc: 0.1027\n",
      "\n",
      "Epoch 24/24\n",
      "----------\n",
      "train Loss: 1.9228 Acc: 0.3781\n",
      "val Loss: 0.4513 Acc: 0.1027\n",
      "\n",
      "Training complete in 2m 33s\n",
      "Best val Acc: 0.102731\n"
     ]
    }
   ],
   "source": [
    "model_ft = train_model(model_ft, criterion, optimizer_ft, exp_lr_scheduler,\n",
    "                       num_epochs=25)"
   ]
  },
  {
   "cell_type": "markdown",
   "metadata": {},
   "source": [
    "Model Visualization"
   ]
  },
  {
   "cell_type": "code",
   "execution_count": 66,
   "metadata": {},
   "outputs": [
    {
     "data": {
      "image/png": "[encoded data removed]",
      "text/plain": [
       "<Figure size 640x480 with 1 Axes>"
      ]
     },
     "metadata": {},
     "output_type": "display_data"
    },
    {
     "data": {
      "image/png": "[encoded data removed]",
      "text/plain": [
       "<Figure size 640x480 with 1 Axes>"
      ]
     },
     "metadata": {},
     "output_type": "display_data"
    },
    {
     "data": {
      "image/png": "[encoded data removed]",
      "text/plain": [
       "<Figure size 640x480 with 1 Axes>"
      ]
     },
     "metadata": {},
     "output_type": "display_data"
    },
    {
     "data": {
      "image/png": "[encoded data removed]",
      "text/plain": [
       "<Figure size 640x480 with 1 Axes>"
      ]
     },
     "metadata": {},
     "output_type": "display_data"
    },
    {
     "data": {
      "image/png": "[encoded data removed]",
      "text/plain": [
       "<Figure size 640x480 with 1 Axes>"
      ]
     },
     "metadata": {},
     "output_type": "display_data"
    },
    {
     "data": {
      "image/png": "[encoded data removed]",
      "text/plain": [
       "<Figure size 640x480 with 1 Axes>"
      ]
     },
     "metadata": {},
     "output_type": "display_data"
    }
   ],
   "source": [
    "visualize_model(model_ft)"
   ]
  },
  {
   "cell_type": "code",
   "execution_count": 55,
   "metadata": {},
   "outputs": [],
   "source": [
    "torch.save(model_ft, 'transfer_model_squeeze_net.pth')"
   ]
  }
 ],
 "metadata": {
  "kernelspec": {
   "display_name": "Python 3",
   "language": "python",
   "name": "python3"
  },
  "language_info": {
   "codemirror_mode": {
    "name": "ipython",
    "version": 3
   },
   "file_extension": ".py",
   "mimetype": "text/x-python",
   "name": "python",
   "nbconvert_exporter": "python",
   "pygments_lexer": "ipython3",
   "version": "3.12.0"
  }
 },
 "nbformat": 4,
 "nbformat_minor": 2
}
