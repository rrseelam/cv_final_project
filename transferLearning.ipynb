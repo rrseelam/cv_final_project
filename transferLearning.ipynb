{
 "cells": [
  {
   "cell_type": "markdown",
   "metadata": {},
   "source": [
    "## Setup"
   ]
  },
  {
   "cell_type": "code",
   "execution_count": 37,
   "metadata": {},
   "outputs": [
    {
     "data": {
      "text/plain": [
       "<contextlib.ExitStack at 0x7f482ecd5670>"
      ]
     },
     "execution_count": 37,
     "metadata": {},
     "output_type": "execute_result"
    }
   ],
   "source": [
    "import torch\n",
    "import torch.nn as nn\n",
    "import torch.optim as optim\n",
    "from torch.optim import lr_scheduler\n",
    "import torch.backends.cudnn as cudnn\n",
    "import numpy as np\n",
    "import torchvision\n",
    "from torchvision import datasets, models, transforms\n",
    "import matplotlib.pyplot as plt\n",
    "import time\n",
    "import os\n",
    "from PIL import Image\n",
    "from tempfile import TemporaryDirectory\n",
    "from torch.utils.data import Dataset, DataLoader, random_split\n",
    "\n",
    "cudnn.benchmark = True\n",
    "plt.ion()"
   ]
  },
  {
   "cell_type": "markdown",
   "metadata": {},
   "source": [
    "Load data and create Dataloaders"
   ]
  },
  {
   "cell_type": "code",
   "execution_count": 38,
   "metadata": {},
   "outputs": [
    {
     "name": "stdout",
     "output_type": "stream",
     "text": [
      "40\n"
     ]
    }
   ],
   "source": [
    "from utils import SymbolDataset, encode_labels\n",
    "\n",
    "data_dir = 'symbols.npz'\n",
    "data = np.load(data_dir)\n",
    "images = data['images']\n",
    "labels = data['labels']\n",
    "\n",
    "class_names, labels_nums = encode_labels(labels)\n",
    "\n",
    "images_tensor = torch.tensor(images).float()\n",
    "\n",
    "# NOTE: maybe try different mean and stds?\n",
    "# mean and std from imagenet are as follows:\n",
    "#  - mean = 0.4453\n",
    "#  - std  = 0.2692\n",
    "\n",
    "# Calculate the mean and standard deviation\n",
    "mean = images_tensor.mean()\n",
    "std = images_tensor.std()\n",
    "\n",
    "data_transforms = {\n",
    "    'train': transforms.Compose([ # Add in transforms if needed, and add test set\n",
    "        transforms.ToTensor(),\n",
    "        #transforms.Normalize(mean, std)\n",
    "    ]),\n",
    "    'val': transforms.Compose([\n",
    "        transforms.ToTensor(),\n",
    "        #transforms.Normalize(mean, std)\n",
    "    ]),\n",
    "}\n",
    "\n",
    "# initialize symbol dataset training splits\n",
    "dataset = SymbolDataset(images, labels_nums, transforms=data_transforms['train'])\n",
    "train_size = int(0.8 * len(dataset))\n",
    "val_size = len(dataset) - train_size\n",
    "train_dataset, val_dataset = random_split(dataset, [train_size, val_size])\n",
    "\n",
    "# initialize dataloaders\n",
    "dataloaders = {\n",
    "    'train': DataLoader(train_dataset, batch_size=1024, shuffle=True, num_workers=4),\n",
    "    'val': DataLoader(val_dataset, batch_size=1024, shuffle=True, num_workers=4)\n",
    "}\n",
    "dataset_sizes = {x: len(dataset) for x in ['train', 'val']}\n",
    "class_names = np.unique(labels)\n",
    "num_classes = len(class_names)\n",
    "print(num_classes)\n",
    "\n",
    "device = torch.device(\"cuda:0\" if torch.cuda.is_available() else \"cpu\")"
   ]
  },
  {
   "cell_type": "markdown",
   "metadata": {},
   "source": [
    "Visualize a batch of training data"
   ]
  },
  {
   "cell_type": "code",
   "execution_count": 39,
   "metadata": {},
   "outputs": [
    {
     "name": "stdout",
     "output_type": "stream",
     "text": [
      "torch.Size([3, 4354, 274])\n"
     ]
    },
    {
     "data": {
      "image/png": "[encoded data removed]",
      "text/plain": [
       "<Figure size 640x480 with 1 Axes>"
      ]
     },
     "metadata": {},
     "output_type": "display_data"
    }
   ],
   "source": [
    "def imshow(inp, title=None):\n",
    "    \"\"\"Display image for Tensor.\"\"\"\n",
    "    inp = inp.numpy().transpose((1, 2, 0))\n",
    "    #inp = std * inp + mean\n",
    "    inp = np.clip(inp, 0, 1)\n",
    "    plt.imshow(inp)\n",
    "    if title is not None:\n",
    "        plt.title(title)\n",
    "    plt.pause(0.001)  # pause a bit so that plots are updated\n",
    "\n",
    "\n",
    "# Get a batch of training data\n",
    "inputs, classes = next(iter(dataloaders['train']))\n",
    "\n",
    "# Make a grid from batch\n",
    "out = torchvision.utils.make_grid(inputs)\n",
    "print(out.shape)\n",
    "\n",
    "imshow(out, title=\"temp\")"
   ]
  },
  {
   "cell_type": "markdown",
   "metadata": {},
   "source": [
    "## Model Training"
   ]
  },
  {
   "cell_type": "code",
   "execution_count": 40,
   "metadata": {},
   "outputs": [],
   "source": [
    "def train_model(model, criterion, optimizer, scheduler, num_epochs=25):\n",
    "    since = time.time()\n",
    "\n",
    "    if torch.cuda.is_available():\n",
    "        model = model.cuda()\n",
    "\n",
    "    with TemporaryDirectory() as tempdir:\n",
    "        best_model_params_path = os.path.join(tempdir, 'best_model_params.pt')\n",
    "\n",
    "        torch.save(model.state_dict(), best_model_params_path)\n",
    "        best_acc = 0.0\n",
    "\n",
    "        for epoch in range(num_epochs):\n",
    "            print(f'Epoch {epoch}/{num_epochs - 1}')\n",
    "            print('-' * 10)\n",
    "\n",
    "            for phase in ['train', 'val']:\n",
    "                if phase == 'train':\n",
    "                    model.train()\n",
    "                else:\n",
    "                    model.eval()\n",
    "\n",
    "                running_loss = 0.0\n",
    "                running_corrects = 0\n",
    "                count = 0\n",
    "                for inputs, labels in dataloaders[phase]:\n",
    "                    inputs = np.repeat(inputs, 3, axis=1)\n",
    "                    count += len(labels)\n",
    "                    if torch.cuda.is_available():\n",
    "                        inputs = inputs.cuda()\n",
    "                        labels = labels.cuda()\n",
    "\n",
    "                    optimizer.zero_grad()\n",
    "\n",
    "                    with torch.set_grad_enabled(phase == 'train'):\n",
    "                        outputs = model(inputs)\n",
    "                        _, preds = torch.max(outputs, 1)\n",
    "                        loss = criterion(outputs, labels)\n",
    "\n",
    "                        if phase == 'train':\n",
    "                            loss.backward()\n",
    "                            optimizer.step()\n",
    "                        \n",
    "                    running_loss += loss.item() * inputs.size(0)\n",
    "                    running_corrects += torch.sum(preds == labels.data)\n",
    "                if phase == 'train':\n",
    "                    scheduler.step()\n",
    "\n",
    "                epoch_loss = running_loss / count\n",
    "                epoch_acc = running_corrects.double() / count\n",
    "\n",
    "                print(f'{phase} Loss: {epoch_loss:.4f} Acc: {epoch_acc:.4f}')\n",
    "\n",
    "                if phase == 'val' and epoch_acc > best_acc:\n",
    "                    best_acc = epoch_acc\n",
    "                    torch.save(model.state_dict(), best_model_params_path)\n",
    "\n",
    "            print()\n",
    "\n",
    "        time_elapsed = time.time() - since\n",
    "        print(f'Training complete in {time_elapsed // 60:.0f}m {time_elapsed % 60:.0f}s')\n",
    "        print(f'Best val Acc: {best_acc:4f}')\n",
    "\n",
    "        model.load_state_dict(torch.load(best_model_params_path))\n",
    "    return model"
   ]
  },
  {
   "cell_type": "code",
   "execution_count": 41,
   "metadata": {},
   "outputs": [],
   "source": [
    "def visualize_model(model, num_images=6):\n",
    "    was_training = model.training\n",
    "    model.eval()\n",
    "    images_so_far = 0\n",
    "    fig = plt.figure()\n",
    "\n",
    "    with torch.no_grad():\n",
    "        for i, (inputs, labels) in enumerate(dataloaders['val']):\n",
    "            # if it errors here u probably have to do the same grayscale to rgb stacking i did earlier\n",
    "            inputs = inputs.to(device)\n",
    "            labels = labels.to(device)\n",
    "            inputs = inputs.repeat(1, 3, 1, 1)\n",
    "            outputs = model(inputs)\n",
    "            _, preds = torch.max(outputs, 1)\n",
    "\n",
    "            for j in range(inputs.size()[0]):\n",
    "                images_so_far += 1\n",
    "                ax = plt.subplot(num_images//2, 2, images_so_far)\n",
    "                ax.axis('off')\n",
    "                ax.set_title(f'predicted: {class_names[preds[j]]}')\n",
    "                imshow(inputs.cpu().data[j])\n",
    "\n",
    "                if images_so_far == num_images:\n",
    "                    model.train(mode=was_training)\n",
    "                    return\n",
    "        model.train(mode=was_training)"
   ]
  },
  {
   "cell_type": "markdown",
   "metadata": {},
   "source": [
    "Summarize pre-trained ResNet18"
   ]
  },
  {
   "cell_type": "code",
   "execution_count": 44,
   "metadata": {},
   "outputs": [
    {
     "data": {
      "text/plain": [
       "========================================================================================================================\n",
       "Layer (type (var_name))                  Input Shape          Output Shape         Param #              Trainable\n",
       "========================================================================================================================\n",
       "ResNet (ResNet)                          [1024, 3, 32, 32]    [1024, 1000]         --                   True\n",
       "├─Conv2d (conv1)                         [1024, 3, 32, 32]    [1024, 64, 16, 16]   9,408                True\n",
       "├─BatchNorm2d (bn1)                      [1024, 64, 16, 16]   [1024, 64, 16, 16]   128                  True\n",
       "├─ReLU (relu)                            [1024, 64, 16, 16]   [1024, 64, 16, 16]   --                   --\n",
       "├─MaxPool2d (maxpool)                    [1024, 64, 16, 16]   [1024, 64, 8, 8]     --                   --\n",
       "├─Sequential (layer1)                    [1024, 64, 8, 8]     [1024, 64, 8, 8]     --                   True\n",
       "│    └─BasicBlock (0)                    [1024, 64, 8, 8]     [1024, 64, 8, 8]     --                   True\n",
       "│    │    └─Conv2d (conv1)               [1024, 64, 8, 8]     [1024, 64, 8, 8]     36,864               True\n",
       "│    │    └─BatchNorm2d (bn1)            [1024, 64, 8, 8]     [1024, 64, 8, 8]     128                  True\n",
       "│    │    └─ReLU (relu)                  [1024, 64, 8, 8]     [1024, 64, 8, 8]     --                   --\n",
       "│    │    └─Conv2d (conv2)               [1024, 64, 8, 8]     [1024, 64, 8, 8]     36,864               True\n",
       "│    │    └─BatchNorm2d (bn2)            [1024, 64, 8, 8]     [1024, 64, 8, 8]     128                  True\n",
       "│    │    └─ReLU (relu)                  [1024, 64, 8, 8]     [1024, 64, 8, 8]     --                   --\n",
       "│    └─BasicBlock (1)                    [1024, 64, 8, 8]     [1024, 64, 8, 8]     --                   True\n",
       "│    │    └─Conv2d (conv1)               [1024, 64, 8, 8]     [1024, 64, 8, 8]     36,864               True\n",
       "│    │    └─BatchNorm2d (bn1)            [1024, 64, 8, 8]     [1024, 64, 8, 8]     128                  True\n",
       "│    │    └─ReLU (relu)                  [1024, 64, 8, 8]     [1024, 64, 8, 8]     --                   --\n",
       "│    │    └─Conv2d (conv2)               [1024, 64, 8, 8]     [1024, 64, 8, 8]     36,864               True\n",
       "│    │    └─BatchNorm2d (bn2)            [1024, 64, 8, 8]     [1024, 64, 8, 8]     128                  True\n",
       "│    │    └─ReLU (relu)                  [1024, 64, 8, 8]     [1024, 64, 8, 8]     --                   --\n",
       "├─Sequential (layer2)                    [1024, 64, 8, 8]     [1024, 128, 4, 4]    --                   True\n",
       "│    └─BasicBlock (0)                    [1024, 64, 8, 8]     [1024, 128, 4, 4]    --                   True\n",
       "│    │    └─Conv2d (conv1)               [1024, 64, 8, 8]     [1024, 128, 4, 4]    73,728               True\n",
       "│    │    └─BatchNorm2d (bn1)            [1024, 128, 4, 4]    [1024, 128, 4, 4]    256                  True\n",
       "│    │    └─ReLU (relu)                  [1024, 128, 4, 4]    [1024, 128, 4, 4]    --                   --\n",
       "│    │    └─Conv2d (conv2)               [1024, 128, 4, 4]    [1024, 128, 4, 4]    147,456              True\n",
       "│    │    └─BatchNorm2d (bn2)            [1024, 128, 4, 4]    [1024, 128, 4, 4]    256                  True\n",
       "│    │    └─Sequential (downsample)      [1024, 64, 8, 8]     [1024, 128, 4, 4]    8,448                True\n",
       "│    │    └─ReLU (relu)                  [1024, 128, 4, 4]    [1024, 128, 4, 4]    --                   --\n",
       "│    └─BasicBlock (1)                    [1024, 128, 4, 4]    [1024, 128, 4, 4]    --                   True\n",
       "│    │    └─Conv2d (conv1)               [1024, 128, 4, 4]    [1024, 128, 4, 4]    147,456              True\n",
       "│    │    └─BatchNorm2d (bn1)            [1024, 128, 4, 4]    [1024, 128, 4, 4]    256                  True\n",
       "│    │    └─ReLU (relu)                  [1024, 128, 4, 4]    [1024, 128, 4, 4]    --                   --\n",
       "│    │    └─Conv2d (conv2)               [1024, 128, 4, 4]    [1024, 128, 4, 4]    147,456              True\n",
       "│    │    └─BatchNorm2d (bn2)            [1024, 128, 4, 4]    [1024, 128, 4, 4]    256                  True\n",
       "│    │    └─ReLU (relu)                  [1024, 128, 4, 4]    [1024, 128, 4, 4]    --                   --\n",
       "├─Sequential (layer3)                    [1024, 128, 4, 4]    [1024, 256, 2, 2]    --                   True\n",
       "│    └─BasicBlock (0)                    [1024, 128, 4, 4]    [1024, 256, 2, 2]    --                   True\n",
       "│    │    └─Conv2d (conv1)               [1024, 128, 4, 4]    [1024, 256, 2, 2]    294,912              True\n",
       "│    │    └─BatchNorm2d (bn1)            [1024, 256, 2, 2]    [1024, 256, 2, 2]    512                  True\n",
       "│    │    └─ReLU (relu)                  [1024, 256, 2, 2]    [1024, 256, 2, 2]    --                   --\n",
       "│    │    └─Conv2d (conv2)               [1024, 256, 2, 2]    [1024, 256, 2, 2]    589,824              True\n",
       "│    │    └─BatchNorm2d (bn2)            [1024, 256, 2, 2]    [1024, 256, 2, 2]    512                  True\n",
       "│    │    └─Sequential (downsample)      [1024, 128, 4, 4]    [1024, 256, 2, 2]    33,280               True\n",
       "│    │    └─ReLU (relu)                  [1024, 256, 2, 2]    [1024, 256, 2, 2]    --                   --\n",
       "│    └─BasicBlock (1)                    [1024, 256, 2, 2]    [1024, 256, 2, 2]    --                   True\n",
       "│    │    └─Conv2d (conv1)               [1024, 256, 2, 2]    [1024, 256, 2, 2]    589,824              True\n",
       "│    │    └─BatchNorm2d (bn1)            [1024, 256, 2, 2]    [1024, 256, 2, 2]    512                  True\n",
       "│    │    └─ReLU (relu)                  [1024, 256, 2, 2]    [1024, 256, 2, 2]    --                   --\n",
       "│    │    └─Conv2d (conv2)               [1024, 256, 2, 2]    [1024, 256, 2, 2]    589,824              True\n",
       "│    │    └─BatchNorm2d (bn2)            [1024, 256, 2, 2]    [1024, 256, 2, 2]    512                  True\n",
       "│    │    └─ReLU (relu)                  [1024, 256, 2, 2]    [1024, 256, 2, 2]    --                   --\n",
       "├─Sequential (layer4)                    [1024, 256, 2, 2]    [1024, 512, 1, 1]    --                   True\n",
       "│    └─BasicBlock (0)                    [1024, 256, 2, 2]    [1024, 512, 1, 1]    --                   True\n",
       "│    │    └─Conv2d (conv1)               [1024, 256, 2, 2]    [1024, 512, 1, 1]    1,179,648            True\n",
       "│    │    └─BatchNorm2d (bn1)            [1024, 512, 1, 1]    [1024, 512, 1, 1]    1,024                True\n",
       "│    │    └─ReLU (relu)                  [1024, 512, 1, 1]    [1024, 512, 1, 1]    --                   --\n",
       "│    │    └─Conv2d (conv2)               [1024, 512, 1, 1]    [1024, 512, 1, 1]    2,359,296            True\n",
       "│    │    └─BatchNorm2d (bn2)            [1024, 512, 1, 1]    [1024, 512, 1, 1]    1,024                True\n",
       "│    │    └─Sequential (downsample)      [1024, 256, 2, 2]    [1024, 512, 1, 1]    132,096              True\n",
       "│    │    └─ReLU (relu)                  [1024, 512, 1, 1]    [1024, 512, 1, 1]    --                   --\n",
       "│    └─BasicBlock (1)                    [1024, 512, 1, 1]    [1024, 512, 1, 1]    --                   True\n",
       "│    │    └─Conv2d (conv1)               [1024, 512, 1, 1]    [1024, 512, 1, 1]    2,359,296            True\n",
       "│    │    └─BatchNorm2d (bn1)            [1024, 512, 1, 1]    [1024, 512, 1, 1]    1,024                True\n",
       "│    │    └─ReLU (relu)                  [1024, 512, 1, 1]    [1024, 512, 1, 1]    --                   --\n",
       "│    │    └─Conv2d (conv2)               [1024, 512, 1, 1]    [1024, 512, 1, 1]    2,359,296            True\n",
       "│    │    └─BatchNorm2d (bn2)            [1024, 512, 1, 1]    [1024, 512, 1, 1]    1,024                True\n",
       "│    │    └─ReLU (relu)                  [1024, 512, 1, 1]    [1024, 512, 1, 1]    --                   --\n",
       "├─AdaptiveAvgPool2d (avgpool)            [1024, 512, 1, 1]    [1024, 512, 1, 1]    --                   --\n",
       "├─Linear (fc)                            [1024, 512]          [1024, 1000]         513,000              True\n",
       "========================================================================================================================\n",
       "Total params: 11,689,512\n",
       "Trainable params: 11,689,512\n",
       "Non-trainable params: 0\n",
       "Total mult-adds (Units.GIGABYTES): 38.43\n",
       "========================================================================================================================\n",
       "Input size (MB): 12.58\n",
       "Forward/backward pass size (MB): 838.66\n",
       "Params size (MB): 46.76\n",
       "Estimated Total Size (MB): 898.01\n",
       "========================================================================================================================"
      ]
     },
     "execution_count": 44,
     "metadata": {},
     "output_type": "execute_result"
    }
   ],
   "source": [
    "from torchinfo import summary\n",
    "\n",
    "model_ft = models.resnet18(weights='IMAGENET1K_V1')\n",
    "summary(model=model_ft, \n",
    "        verbose=0,\n",
    "        input_size=(1024, 3, 32, 32),\n",
    "        col_names=[\"input_size\", \"output_size\", \"num_params\", \"trainable\"],\n",
    "        col_width=20,\n",
    "        row_settings=[\"var_names\"])"
   ]
  },
  {
   "cell_type": "markdown",
   "metadata": {},
   "source": [
    "Modify last linear classification layer and freeze previous layers in preparation for transfer learning"
   ]
  },
  {
   "cell_type": "code",
   "execution_count": 45,
   "metadata": {},
   "outputs": [
    {
     "data": {
      "text/plain": [
       "========================================================================================================================\n",
       "Layer (type (var_name))                  Input Shape          Output Shape         Param #              Trainable\n",
       "========================================================================================================================\n",
       "ResNet (ResNet)                          [1024, 3, 32, 32]    [1024, 40]           --                   Partial\n",
       "├─Conv2d (conv1)                         [1024, 3, 32, 32]    [1024, 64, 16, 16]   (9,408)              False\n",
       "├─BatchNorm2d (bn1)                      [1024, 64, 16, 16]   [1024, 64, 16, 16]   (128)                False\n",
       "├─ReLU (relu)                            [1024, 64, 16, 16]   [1024, 64, 16, 16]   --                   --\n",
       "├─MaxPool2d (maxpool)                    [1024, 64, 16, 16]   [1024, 64, 8, 8]     --                   --\n",
       "├─Sequential (layer1)                    [1024, 64, 8, 8]     [1024, 64, 8, 8]     --                   False\n",
       "│    └─BasicBlock (0)                    [1024, 64, 8, 8]     [1024, 64, 8, 8]     --                   False\n",
       "│    │    └─Conv2d (conv1)               [1024, 64, 8, 8]     [1024, 64, 8, 8]     (36,864)             False\n",
       "│    │    └─BatchNorm2d (bn1)            [1024, 64, 8, 8]     [1024, 64, 8, 8]     (128)                False\n",
       "│    │    └─ReLU (relu)                  [1024, 64, 8, 8]     [1024, 64, 8, 8]     --                   --\n",
       "│    │    └─Conv2d (conv2)               [1024, 64, 8, 8]     [1024, 64, 8, 8]     (36,864)             False\n",
       "│    │    └─BatchNorm2d (bn2)            [1024, 64, 8, 8]     [1024, 64, 8, 8]     (128)                False\n",
       "│    │    └─ReLU (relu)                  [1024, 64, 8, 8]     [1024, 64, 8, 8]     --                   --\n",
       "│    └─BasicBlock (1)                    [1024, 64, 8, 8]     [1024, 64, 8, 8]     --                   False\n",
       "│    │    └─Conv2d (conv1)               [1024, 64, 8, 8]     [1024, 64, 8, 8]     (36,864)             False\n",
       "│    │    └─BatchNorm2d (bn1)            [1024, 64, 8, 8]     [1024, 64, 8, 8]     (128)                False\n",
       "│    │    └─ReLU (relu)                  [1024, 64, 8, 8]     [1024, 64, 8, 8]     --                   --\n",
       "│    │    └─Conv2d (conv2)               [1024, 64, 8, 8]     [1024, 64, 8, 8]     (36,864)             False\n",
       "│    │    └─BatchNorm2d (bn2)            [1024, 64, 8, 8]     [1024, 64, 8, 8]     (128)                False\n",
       "│    │    └─ReLU (relu)                  [1024, 64, 8, 8]     [1024, 64, 8, 8]     --                   --\n",
       "├─Sequential (layer2)                    [1024, 64, 8, 8]     [1024, 128, 4, 4]    --                   False\n",
       "│    └─BasicBlock (0)                    [1024, 64, 8, 8]     [1024, 128, 4, 4]    --                   False\n",
       "│    │    └─Conv2d (conv1)               [1024, 64, 8, 8]     [1024, 128, 4, 4]    (73,728)             False\n",
       "│    │    └─BatchNorm2d (bn1)            [1024, 128, 4, 4]    [1024, 128, 4, 4]    (256)                False\n",
       "│    │    └─ReLU (relu)                  [1024, 128, 4, 4]    [1024, 128, 4, 4]    --                   --\n",
       "│    │    └─Conv2d (conv2)               [1024, 128, 4, 4]    [1024, 128, 4, 4]    (147,456)            False\n",
       "│    │    └─BatchNorm2d (bn2)            [1024, 128, 4, 4]    [1024, 128, 4, 4]    (256)                False\n",
       "│    │    └─Sequential (downsample)      [1024, 64, 8, 8]     [1024, 128, 4, 4]    (8,448)              False\n",
       "│    │    └─ReLU (relu)                  [1024, 128, 4, 4]    [1024, 128, 4, 4]    --                   --\n",
       "│    └─BasicBlock (1)                    [1024, 128, 4, 4]    [1024, 128, 4, 4]    --                   False\n",
       "│    │    └─Conv2d (conv1)               [1024, 128, 4, 4]    [1024, 128, 4, 4]    (147,456)            False\n",
       "│    │    └─BatchNorm2d (bn1)            [1024, 128, 4, 4]    [1024, 128, 4, 4]    (256)                False\n",
       "│    │    └─ReLU (relu)                  [1024, 128, 4, 4]    [1024, 128, 4, 4]    --                   --\n",
       "│    │    └─Conv2d (conv2)               [1024, 128, 4, 4]    [1024, 128, 4, 4]    (147,456)            False\n",
       "│    │    └─BatchNorm2d (bn2)            [1024, 128, 4, 4]    [1024, 128, 4, 4]    (256)                False\n",
       "│    │    └─ReLU (relu)                  [1024, 128, 4, 4]    [1024, 128, 4, 4]    --                   --\n",
       "├─Sequential (layer3)                    [1024, 128, 4, 4]    [1024, 256, 2, 2]    --                   False\n",
       "│    └─BasicBlock (0)                    [1024, 128, 4, 4]    [1024, 256, 2, 2]    --                   False\n",
       "│    │    └─Conv2d (conv1)               [1024, 128, 4, 4]    [1024, 256, 2, 2]    (294,912)            False\n",
       "│    │    └─BatchNorm2d (bn1)            [1024, 256, 2, 2]    [1024, 256, 2, 2]    (512)                False\n",
       "│    │    └─ReLU (relu)                  [1024, 256, 2, 2]    [1024, 256, 2, 2]    --                   --\n",
       "│    │    └─Conv2d (conv2)               [1024, 256, 2, 2]    [1024, 256, 2, 2]    (589,824)            False\n",
       "│    │    └─BatchNorm2d (bn2)            [1024, 256, 2, 2]    [1024, 256, 2, 2]    (512)                False\n",
       "│    │    └─Sequential (downsample)      [1024, 128, 4, 4]    [1024, 256, 2, 2]    (33,280)             False\n",
       "│    │    └─ReLU (relu)                  [1024, 256, 2, 2]    [1024, 256, 2, 2]    --                   --\n",
       "│    └─BasicBlock (1)                    [1024, 256, 2, 2]    [1024, 256, 2, 2]    --                   False\n",
       "│    │    └─Conv2d (conv1)               [1024, 256, 2, 2]    [1024, 256, 2, 2]    (589,824)            False\n",
       "│    │    └─BatchNorm2d (bn1)            [1024, 256, 2, 2]    [1024, 256, 2, 2]    (512)                False\n",
       "│    │    └─ReLU (relu)                  [1024, 256, 2, 2]    [1024, 256, 2, 2]    --                   --\n",
       "│    │    └─Conv2d (conv2)               [1024, 256, 2, 2]    [1024, 256, 2, 2]    (589,824)            False\n",
       "│    │    └─BatchNorm2d (bn2)            [1024, 256, 2, 2]    [1024, 256, 2, 2]    (512)                False\n",
       "│    │    └─ReLU (relu)                  [1024, 256, 2, 2]    [1024, 256, 2, 2]    --                   --\n",
       "├─Sequential (layer4)                    [1024, 256, 2, 2]    [1024, 512, 1, 1]    --                   False\n",
       "│    └─BasicBlock (0)                    [1024, 256, 2, 2]    [1024, 512, 1, 1]    --                   False\n",
       "│    │    └─Conv2d (conv1)               [1024, 256, 2, 2]    [1024, 512, 1, 1]    (1,179,648)          False\n",
       "│    │    └─BatchNorm2d (bn1)            [1024, 512, 1, 1]    [1024, 512, 1, 1]    (1,024)              False\n",
       "│    │    └─ReLU (relu)                  [1024, 512, 1, 1]    [1024, 512, 1, 1]    --                   --\n",
       "│    │    └─Conv2d (conv2)               [1024, 512, 1, 1]    [1024, 512, 1, 1]    (2,359,296)          False\n",
       "│    │    └─BatchNorm2d (bn2)            [1024, 512, 1, 1]    [1024, 512, 1, 1]    (1,024)              False\n",
       "│    │    └─Sequential (downsample)      [1024, 256, 2, 2]    [1024, 512, 1, 1]    (132,096)            False\n",
       "│    │    └─ReLU (relu)                  [1024, 512, 1, 1]    [1024, 512, 1, 1]    --                   --\n",
       "│    └─BasicBlock (1)                    [1024, 512, 1, 1]    [1024, 512, 1, 1]    --                   False\n",
       "│    │    └─Conv2d (conv1)               [1024, 512, 1, 1]    [1024, 512, 1, 1]    (2,359,296)          False\n",
       "│    │    └─BatchNorm2d (bn1)            [1024, 512, 1, 1]    [1024, 512, 1, 1]    (1,024)              False\n",
       "│    │    └─ReLU (relu)                  [1024, 512, 1, 1]    [1024, 512, 1, 1]    --                   --\n",
       "│    │    └─Conv2d (conv2)               [1024, 512, 1, 1]    [1024, 512, 1, 1]    (2,359,296)          False\n",
       "│    │    └─BatchNorm2d (bn2)            [1024, 512, 1, 1]    [1024, 512, 1, 1]    (1,024)              False\n",
       "│    │    └─ReLU (relu)                  [1024, 512, 1, 1]    [1024, 512, 1, 1]    --                   --\n",
       "├─AdaptiveAvgPool2d (avgpool)            [1024, 512, 1, 1]    [1024, 512, 1, 1]    --                   --\n",
       "├─Linear (fc)                            [1024, 512]          [1024, 40]           20,520               True\n",
       "========================================================================================================================\n",
       "Total params: 11,197,032\n",
       "Trainable params: 20,520\n",
       "Non-trainable params: 11,176,512\n",
       "Total mult-adds (Units.GIGABYTES): 37.93\n",
       "========================================================================================================================\n",
       "Input size (MB): 12.58\n",
       "Forward/backward pass size (MB): 830.80\n",
       "Params size (MB): 44.79\n",
       "Estimated Total Size (MB): 888.17\n",
       "========================================================================================================================"
      ]
     },
     "execution_count": 45,
     "metadata": {},
     "output_type": "execute_result"
    }
   ],
   "source": [
    "for param in model_ft.parameters():\n",
    "    param.requires_grad = False\n",
    "\n",
    "# alter output size of last linear layer (fc)\n",
    "num_ftrs = model_ft.fc.in_features\n",
    "model_ft.fc = nn.Linear(num_ftrs, num_classes)\n",
    "\n",
    "model_ft = model_ft.to(device)\n",
    "\n",
    "summary(model=model_ft, \n",
    "        verbose=0,\n",
    "        input_size=(1024, 3, 32, 32),\n",
    "        col_names=[\"input_size\", \"output_size\", \"num_params\", \"trainable\"],\n",
    "        col_width=20,\n",
    "        row_settings=[\"var_names\"])"
   ]
  },
  {
   "cell_type": "markdown",
   "metadata": {},
   "source": [
    "Initialize loss criterion and training optimizer"
   ]
  },
  {
   "cell_type": "code",
   "execution_count": 46,
   "metadata": {},
   "outputs": [],
   "source": [
    "criterion = nn.CrossEntropyLoss()\n",
    "\n",
    "# Observe that all parameters are being optimized\n",
    "optimizer_ft = optim.SGD(model_ft.fc.parameters(), lr=0.001, momentum=0.9)\n",
    "\n",
    "# Decay LR by a factor of 0.1 every 7 epochs\n",
    "exp_lr_scheduler = lr_scheduler.StepLR(optimizer_ft, step_size=7, gamma=0.1)"
   ]
  },
  {
   "cell_type": "markdown",
   "metadata": {},
   "source": [
    "Training loop"
   ]
  },
  {
   "cell_type": "code",
   "execution_count": 47,
   "metadata": {},
   "outputs": [
    {
     "name": "stdout",
     "output_type": "stream",
     "text": [
      "Epoch 0/24\n",
      "----------\n",
      "train Loss: 2.4333 Acc: 0.4150\n",
      "val Loss: 1.9655 Acc: 0.5219\n",
      "\n",
      "Epoch 1/24\n",
      "----------\n",
      "train Loss: 1.8114 Acc: 0.5509\n",
      "val Loss: 1.6960 Acc: 0.5757\n",
      "\n",
      "Epoch 2/24\n",
      "----------\n",
      "train Loss: 1.6222 Acc: 0.5894\n",
      "val Loss: 1.5628 Acc: 0.6012\n",
      "\n",
      "Epoch 3/24\n",
      "----------\n",
      "train Loss: 1.5159 Acc: 0.6117\n",
      "val Loss: 1.4809 Acc: 0.6170\n",
      "\n",
      "Epoch 4/24\n",
      "----------\n",
      "train Loss: 1.4450 Acc: 0.6261\n",
      "val Loss: 1.4237 Acc: 0.6311\n",
      "\n",
      "Epoch 5/24\n",
      "----------\n",
      "train Loss: 1.3926 Acc: 0.6375\n",
      "val Loss: 1.3793 Acc: 0.6380\n",
      "\n",
      "Epoch 6/24\n",
      "----------\n",
      "train Loss: 1.3529 Acc: 0.6455\n",
      "val Loss: 1.3359 Acc: 0.6487\n",
      "\n",
      "Epoch 7/24\n",
      "----------\n",
      "train Loss: 1.3315 Acc: 0.6502\n",
      "val Loss: 1.3324 Acc: 0.6496\n",
      "\n",
      "Epoch 8/24\n",
      "----------\n",
      "train Loss: 1.3277 Acc: 0.6518\n",
      "val Loss: 1.3362 Acc: 0.6489\n",
      "\n",
      "Epoch 9/24\n",
      "----------\n",
      "train Loss: 1.3250 Acc: 0.6518\n",
      "val Loss: 1.3308 Acc: 0.6495\n",
      "\n",
      "Epoch 10/24\n",
      "----------\n",
      "train Loss: 1.3218 Acc: 0.6523\n",
      "val Loss: 1.3303 Acc: 0.6498\n",
      "\n",
      "Epoch 11/24\n",
      "----------\n",
      "train Loss: 1.3186 Acc: 0.6535\n",
      "val Loss: 1.3269 Acc: 0.6510\n",
      "\n",
      "Epoch 12/24\n",
      "----------\n",
      "train Loss: 1.3161 Acc: 0.6534\n",
      "val Loss: 1.3233 Acc: 0.6515\n",
      "\n",
      "Epoch 13/24\n",
      "----------\n",
      "train Loss: 1.3132 Acc: 0.6542\n",
      "val Loss: 1.3137 Acc: 0.6528\n",
      "\n",
      "Epoch 14/24\n",
      "----------\n",
      "train Loss: 1.3112 Acc: 0.6551\n",
      "val Loss: 1.3132 Acc: 0.6532\n",
      "\n",
      "Epoch 15/24\n",
      "----------\n",
      "train Loss: 1.3105 Acc: 0.6555\n",
      "val Loss: 1.3157 Acc: 0.6525\n",
      "\n",
      "Epoch 16/24\n",
      "----------\n",
      "train Loss: 1.3112 Acc: 0.6547\n",
      "val Loss: 1.3146 Acc: 0.6542\n",
      "\n",
      "Epoch 17/24\n",
      "----------\n",
      "train Loss: 1.3108 Acc: 0.6545\n",
      "val Loss: 1.3088 Acc: 0.6545\n",
      "\n",
      "Epoch 18/24\n",
      "----------\n",
      "train Loss: 1.3094 Acc: 0.6549\n",
      "val Loss: 1.3143 Acc: 0.6539\n",
      "\n",
      "Epoch 19/24\n",
      "----------\n",
      "train Loss: 1.3103 Acc: 0.6549\n",
      "val Loss: 1.3210 Acc: 0.6520\n",
      "\n",
      "Epoch 20/24\n",
      "----------\n",
      "train Loss: 1.3104 Acc: 0.6556\n",
      "val Loss: 1.3170 Acc: 0.6531\n",
      "\n",
      "Epoch 21/24\n",
      "----------\n",
      "train Loss: 1.3096 Acc: 0.6554\n",
      "val Loss: 1.3129 Acc: 0.6532\n",
      "\n",
      "Epoch 22/24\n",
      "----------\n",
      "train Loss: 1.3097 Acc: 0.6546\n",
      "val Loss: 1.3129 Acc: 0.6540\n",
      "\n",
      "Epoch 23/24\n",
      "----------\n",
      "train Loss: 1.3096 Acc: 0.6550\n",
      "val Loss: 1.3171 Acc: 0.6529\n",
      "\n",
      "Epoch 24/24\n",
      "----------\n",
      "train Loss: 1.3097 Acc: 0.6550\n",
      "val Loss: 1.3145 Acc: 0.6530\n",
      "\n",
      "Training complete in 5m 21s\n",
      "Best val Acc: 0.654471\n"
     ]
    }
   ],
   "source": [
    "model_ft = train_model(model_ft, criterion, optimizer_ft, exp_lr_scheduler,\n",
    "                       num_epochs=25)"
   ]
  },
  {
   "cell_type": "markdown",
   "metadata": {},
   "source": [
    "Model Visualization"
   ]
  },
  {
   "cell_type": "code",
   "execution_count": 48,
   "metadata": {},
   "outputs": [
    {
     "data": {
      "image/png": "[encoded data removed]",
      "text/plain": [
       "<Figure size 640x480 with 1 Axes>"
      ]
     },
     "metadata": {},
     "output_type": "display_data"
    },
    {
     "data": {
      "image/png": "[encoded data removed]",
      "text/plain": [
       "<Figure size 640x480 with 1 Axes>"
      ]
     },
     "metadata": {},
     "output_type": "display_data"
    },
    {
     "data": {
      "image/png": "[encoded data removed]",
      "text/plain": [
       "<Figure size 640x480 with 1 Axes>"
      ]
     },
     "metadata": {},
     "output_type": "display_data"
    },
    {
     "data": {
      "image/png": "[encoded data removed]",
      "text/plain": [
       "<Figure size 640x480 with 1 Axes>"
      ]
     },
     "metadata": {},
     "output_type": "display_data"
    },
    {
     "data": {
      "image/png": "[encoded data removed]",
      "text/plain": [
       "<Figure size 640x480 with 1 Axes>"
      ]
     },
     "metadata": {},
     "output_type": "display_data"
    },
    {
     "data": {
      "image/png": "[encoded data removed]",
      "text/plain": [
       "<Figure size 640x480 with 1 Axes>"
      ]
     },
     "metadata": {},
     "output_type": "display_data"
    },
    {
     "data": {
      "image/png": "[encoded data removed]",
      "text/plain": [
       "<Figure size 640x480 with 1 Axes>"
      ]
     },
     "metadata": {},
     "output_type": "display_data"
    },
    {
     "data": {
      "image/png": "[encoded data removed]",
      "text/plain": [
       "<Figure size 640x480 with 1 Axes>"
      ]
     },
     "metadata": {},
     "output_type": "display_data"
    },
    {
     "data": {
      "image/png": "[encoded data removed]",
      "text/plain": [
       "<Figure size 640x480 with 1 Axes>"
      ]
     },
     "metadata": {},
     "output_type": "display_data"
    },
    {
     "data": {
      "image/png": "[encoded data removed]",
      "text/plain": [
       "<Figure size 640x480 with 1 Axes>"
      ]
     },
     "metadata": {},
     "output_type": "display_data"
    },
    {
     "data": {
      "image/png": "[encoded data removed]",
      "text/plain": [
       "<Figure size 640x480 with 1 Axes>"
      ]
     },
     "metadata": {},
     "output_type": "display_data"
    },
    {
     "data": {
      "image/png": "[encoded data removed]",
      "text/plain": [
       "<Figure size 640x480 with 1 Axes>"
      ]
     },
     "metadata": {},
     "output_type": "display_data"
    },
    {
     "data": {
      "image/png": "[encoded data removed]",
      "text/plain": [
       "<Figure size 640x480 with 1 Axes>"
      ]
     },
     "metadata": {},
     "output_type": "display_data"
    },
    {
     "data": {
      "image/png": "[encoded data removed]",
      "text/plain": [
       "<Figure size 640x480 with 1 Axes>"
      ]
     },
     "metadata": {},
     "output_type": "display_data"
    },
    {
     "data": {
      "image/png": "[encoded data removed]",
      "text/plain": [
       "<Figure size 640x480 with 1 Axes>"
      ]
     },
     "metadata": {},
     "output_type": "display_data"
    },
    {
     "data": {
      "image/png": "[encoded data removed]",
      "text/plain": [
       "<Figure size 640x480 with 1 Axes>"
      ]
     },
     "metadata": {},
     "output_type": "display_data"
    },
    {
     "data": {
      "image/png": "[encoded data removed]",
      "text/plain": [
       "<Figure size 640x480 with 1 Axes>"
      ]
     },
     "metadata": {},
     "output_type": "display_data"
    },
    {
     "data": {
      "image/png": "[encoded data removed]",
      "text/plain": [
       "<Figure size 640x480 with 1 Axes>"
      ]
     },
     "metadata": {},
     "output_type": "display_data"
    },
    {
     "data": {
      "image/png": "[encoded data removed]",
      "text/plain": [
       "<Figure size 640x480 with 1 Axes>"
      ]
     },
     "metadata": {},
     "output_type": "display_data"
    },
    {
     "data": {
      "image/png": "[encoded data removed]",
      "text/plain": [
       "<Figure size 640x480 with 1 Axes>"
      ]
     },
     "metadata": {},
     "output_type": "display_data"
    }
   ],
   "source": [
    "visualize_model(model_ft, 20)"
   ]
  },
  {
   "cell_type": "code",
   "execution_count": 49,
   "metadata": {},
   "outputs": [],
   "source": [
    "torch.save(model_ft, 'transfer_model_resnet18.pth')"
   ]
  }
 ],
 "metadata": {
  "kernelspec": {
   "display_name": "Python 3",
   "language": "python",
   "name": "python3"
  },
  "language_info": {
   "codemirror_mode": {
    "name": "ipython",
    "version": 3
   },
   "file_extension": ".py",
   "mimetype": "text/x-python",
   "name": "python",
   "nbconvert_exporter": "python",
   "pygments_lexer": "ipython3",
   "version": "3.12.0"
  }
 },
 "nbformat": 4,
 "nbformat_minor": 2
}
